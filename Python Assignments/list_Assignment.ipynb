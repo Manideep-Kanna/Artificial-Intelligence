{
  "cells": [
    {
      "cell_type": "markdown",
      "metadata": {
        "id": "rol1zHHi5SOQ"
      },
      "source": [
        "# Module 3: Data Structures Assignments\n",
        "## Lesson 3.1: Lists\n",
        "### Assignment 1: Creating and Accessing Lists\n",
        "\n",
        "Create a list of the first 20 positive integers. Print the list.\n",
        "\n",
        "### Assignment 2: Accessing List Elements\n",
        "\n",
        "Print the first, middle, and last elements of the list created in Assignment 1.\n",
        "\n",
        "### Assignment 3: List Slicing\n",
        "\n",
        "Print the first five elements, the last five elements, and the elements from index 5 to 15 of the list created in Assignment 1.\n",
        "\n",
        "### Assignment 4: List Comprehensions\n",
        "\n",
        "Create a new list containing the squares of the first 10 positive integers using a list comprehension. Print the new list.\n",
        "\n",
        "### Assignment 5: Filtering Lists\n",
        "\n",
        "Create a new list containing only the even numbers from the list created in Assignment 1 using a list comprehension. Print the new list.\n",
        "\n",
        "### Assignment 6: List Methods\n",
        "\n",
        "Create a list of random numbers and sort it in ascending and descending order. Remove the duplicates from the list and print the modified list.\n",
        "\n",
        "### Assignment 7: Nested Lists\n",
        "\n",
        "Create a nested list representing a 3x3 matrix and print the matrix. Access and print the element at the second row and third column.\n",
        "\n",
        "### Assignment 8: List of Dictionaries\n",
        "\n",
        "Create a list of dictionaries where each dictionary represents a student with keys 'name' and 'score'. Sort the list of dictionaries by the 'score' in descending order and print the sorted list.\n",
        "\n",
        "### Assignment 9: Matrix Transposition\n",
        "\n",
        "Write a function that takes a 3x3 matrix (nested list) as input and returns its transpose. Print the original and transposed matrices.\n",
        "\n",
        "### Assignment 10: Flattening a Nested List\n",
        "\n",
        "Write a function that takes a nested list and flattens it into a single list. Print the original and flattened lists.\n",
        "\n",
        "### Assignment 11: List Manipulation\n",
        "\n",
        "Create a list of the first 10 positive integers. Remove the elements at indices 2, 4, and 6, and insert the element '99' at index 5. Print the modified list.\n",
        "\n",
        "### Assignment 12: List Zipping\n",
        "\n",
        "Create two lists of the same length. Use the `zip` function to combine these lists into a list of tuples and print the result.\n",
        "\n",
        "### Assignment 13: List Reversal\n",
        "\n",
        "Write a function that takes a list and returns a new list with the elements in reverse order. Print the original and reversed lists.\n",
        "\n",
        "### Assignment 14: List Rotation\n",
        "\n",
        "Write a function that rotates a list by n positions. Print the original and rotated lists.\n",
        "\n",
        "### Assignment 15: List Intersection\n",
        "\n",
        "Write a function that takes two lists and returns a new list containing only the elements that are present in both lists. Print the intersected list."
      ],
      "id": "rol1zHHi5SOQ"
    },
    {
      "cell_type": "code",
      "execution_count": 1,
      "metadata": {
        "colab": {
          "base_uri": "https://localhost:8080/"
        },
        "id": "ufZRLGiv5SOX",
        "outputId": "69039b98-3a28-4d76-874c-af49553006db"
      },
      "outputs": [
        {
          "output_type": "execute_result",
          "data": {
            "text/plain": [
              "[1, 2, 3, 4, 5, 6, 7, 8, 9, 10, 11, 12, 13, 14, 15, 16, 17, 18, 19, 20]"
            ]
          },
          "metadata": {},
          "execution_count": 1
        }
      ],
      "source": [
        "nums=[x for x in range(1,21)]\n",
        "nums"
      ],
      "id": "ufZRLGiv5SOX"
    },
    {
      "cell_type": "code",
      "source": [
        "even_nums = [num for num in nums if num % 2 == 0]\n",
        "even_nums"
      ],
      "metadata": {
        "colab": {
          "base_uri": "https://localhost:8080/"
        },
        "id": "EZWiQtJt5i8j",
        "outputId": "379a8bf8-ee27-4b9e-b241-3f9a6c74ae91"
      },
      "id": "EZWiQtJt5i8j",
      "execution_count": 2,
      "outputs": [
        {
          "output_type": "execute_result",
          "data": {
            "text/plain": [
              "[2, 4, 6, 8, 10, 12, 14, 16, 18, 20]"
            ]
          },
          "metadata": {},
          "execution_count": 2
        }
      ]
    },
    {
      "cell_type": "code",
      "source": [
        "import random\n",
        "\n",
        "random_nums = [int(random.random()*10) for i in range(20)]\n",
        "random_nums"
      ],
      "metadata": {
        "colab": {
          "base_uri": "https://localhost:8080/"
        },
        "id": "NQjSIL6p6VLe",
        "outputId": "b7e42e54-3dd0-4482-a69c-537ef090da63"
      },
      "id": "NQjSIL6p6VLe",
      "execution_count": 3,
      "outputs": [
        {
          "output_type": "execute_result",
          "data": {
            "text/plain": [
              "[2, 9, 1, 0, 6, 4, 5, 8, 7, 5, 0, 8, 4, 7, 3, 0, 1, 0, 1, 9]"
            ]
          },
          "metadata": {},
          "execution_count": 3
        }
      ]
    },
    {
      "cell_type": "code",
      "source": [
        "random_nums.sort()\n",
        "random_nums"
      ],
      "metadata": {
        "colab": {
          "base_uri": "https://localhost:8080/"
        },
        "id": "3SLDHOw263ni",
        "outputId": "5fc30cef-fb51-4a7a-e665-96d15ad1894e"
      },
      "id": "3SLDHOw263ni",
      "execution_count": 4,
      "outputs": [
        {
          "output_type": "execute_result",
          "data": {
            "text/plain": [
              "[0, 0, 0, 0, 1, 1, 1, 2, 3, 4, 4, 5, 5, 6, 7, 7, 8, 8, 9, 9]"
            ]
          },
          "metadata": {},
          "execution_count": 4
        }
      ]
    },
    {
      "cell_type": "code",
      "source": [
        "res = []\n",
        "[res.append(x) for x in random_nums if x not in res]\n",
        "res"
      ],
      "metadata": {
        "colab": {
          "base_uri": "https://localhost:8080/"
        },
        "id": "qLGafPIsDBlC",
        "outputId": "1aef2c16-6cbd-4261-dc2a-144595cf8b97"
      },
      "id": "qLGafPIsDBlC",
      "execution_count": 5,
      "outputs": [
        {
          "output_type": "execute_result",
          "data": {
            "text/plain": [
              "[0, 1, 2, 3, 4, 5, 6, 7, 8, 9]"
            ]
          },
          "metadata": {},
          "execution_count": 5
        }
      ]
    },
    {
      "cell_type": "code",
      "source": [
        "# Learning Sort function more\n",
        "\n",
        "letters = ['Ford', 'ZMW', 'Volvo']\n",
        "letters.sort()\n",
        "letters"
      ],
      "metadata": {
        "colab": {
          "base_uri": "https://localhost:8080/"
        },
        "id": "rk6oDEs27YJ7",
        "outputId": "d49b6621-efbb-4e3a-eadd-5677f84ab544"
      },
      "id": "rk6oDEs27YJ7",
      "execution_count": 6,
      "outputs": [
        {
          "output_type": "execute_result",
          "data": {
            "text/plain": [
              "['Ford', 'Volvo', 'ZMW']"
            ]
          },
          "metadata": {},
          "execution_count": 6
        }
      ]
    },
    {
      "cell_type": "code",
      "source": [
        "def fn(word):\n",
        "  return len(word)\n",
        "\n",
        "words = ['Ford', 'ZMW', 'Volvo']\n",
        "\n",
        "words.sort(key=fn)\n",
        "words"
      ],
      "metadata": {
        "colab": {
          "base_uri": "https://localhost:8080/"
        },
        "id": "ipD2yHOm7ZQ9",
        "outputId": "c4ca3941-9beb-4ae7-efc6-70da9defef8e"
      },
      "id": "ipD2yHOm7ZQ9",
      "execution_count": 7,
      "outputs": [
        {
          "output_type": "execute_result",
          "data": {
            "text/plain": [
              "['ZMW', 'Ford', 'Volvo']"
            ]
          },
          "metadata": {},
          "execution_count": 7
        }
      ]
    },
    {
      "cell_type": "markdown",
      "source": [
        "Assignment 7: Nested Lists\n",
        "Create a nested list representing a 3x3 matrix and print the matrix. Access and print the element at the second row and third column."
      ],
      "metadata": {
        "id": "x8I5aiExE9js"
      },
      "id": "x8I5aiExE9js"
    },
    {
      "cell_type": "code",
      "source": [
        "mat= [[1,2,3],[4,5,6],[7,8,9]]\n",
        "print(mat)\n",
        "print(mat[1][2])"
      ],
      "metadata": {
        "colab": {
          "base_uri": "https://localhost:8080/"
        },
        "id": "gykx12BWE-MU",
        "outputId": "f870366d-b2d5-4f1b-9503-bfe8d0c91e9d"
      },
      "id": "gykx12BWE-MU",
      "execution_count": 8,
      "outputs": [
        {
          "output_type": "stream",
          "name": "stdout",
          "text": [
            "[[1, 2, 3], [4, 5, 6], [7, 8, 9]]\n",
            "6\n"
          ]
        }
      ]
    },
    {
      "cell_type": "markdown",
      "source": [
        "\n",
        "Assignment 8: List of Dictionaries\n",
        "Create a list of dictionaries where each dictionary represents a student with keys 'name' and 'score'. Sort the list of dictionaries by the 'score' in descending order and print the sorted list."
      ],
      "metadata": {
        "id": "qhJMEEq3FRUZ"
      },
      "id": "qhJMEEq3FRUZ"
    },
    {
      "cell_type": "code",
      "source": [
        "student_1 = {\n",
        "    \"name\": \"kanna\",\n",
        "    \"score\": 100\n",
        "}\n",
        "\n",
        "student_2 = {\n",
        "    \"name\": \"manideep\",\n",
        "    \"score\": 99\n",
        "}\n",
        "\n",
        "student_3 = {\n",
        "    \"name\": \"rama\",\n",
        "    \"score\": 73\n",
        "}\n",
        "student_4 = {\n",
        "    \"name\": \"ramanth\",\n",
        "    \"score\": 85\n",
        "}\n",
        "\n",
        "students = [student_1,student_2,student_3,student_4]\n",
        "\n",
        "students"
      ],
      "metadata": {
        "colab": {
          "base_uri": "https://localhost:8080/"
        },
        "id": "hNdBIH2cFVAc",
        "outputId": "01f6a35a-2c8e-4fb1-d2de-f1480fbdcaac"
      },
      "id": "hNdBIH2cFVAc",
      "execution_count": 9,
      "outputs": [
        {
          "output_type": "execute_result",
          "data": {
            "text/plain": [
              "[{'name': 'kanna', 'score': 100},\n",
              " {'name': 'manideep', 'score': 99},\n",
              " {'name': 'rama', 'score': 73},\n",
              " {'name': 'ramanth', 'score': 85}]"
            ]
          },
          "metadata": {},
          "execution_count": 9
        }
      ]
    },
    {
      "cell_type": "code",
      "source": [
        "def fn(student):\n",
        "  return student[\"score\"]\n",
        "\n",
        "students.sort(reverse=True,key= fn)\n",
        "students"
      ],
      "metadata": {
        "colab": {
          "base_uri": "https://localhost:8080/"
        },
        "id": "owgKlEg1FiHz",
        "outputId": "954a98b1-c7f7-4061-e055-73260553d57a"
      },
      "id": "owgKlEg1FiHz",
      "execution_count": 10,
      "outputs": [
        {
          "output_type": "execute_result",
          "data": {
            "text/plain": [
              "[{'name': 'kanna', 'score': 100},\n",
              " {'name': 'manideep', 'score': 99},\n",
              " {'name': 'ramanth', 'score': 85},\n",
              " {'name': 'rama', 'score': 73}]"
            ]
          },
          "metadata": {},
          "execution_count": 10
        }
      ]
    },
    {
      "cell_type": "markdown",
      "source": [
        "Assignment 9: Matrix Transposition\n",
        "Write a function that takes a 3x3 matrix (nested list) as input and returns its transpose. Print the original and transposed matrices."
      ],
      "metadata": {
        "id": "eEqskXRfG78N"
      },
      "id": "eEqskXRfG78N"
    },
    {
      "cell_type": "code",
      "source": [
        "import copy\n",
        "mat= [[1,2,3],[4,5,6],[7,8,9]]\n",
        "trans_mat = copy.deepcopy(mat)\n",
        "trans_mat[1][0] = 11"
      ],
      "metadata": {
        "id": "1mBFDEl3G1Jx"
      },
      "id": "1mBFDEl3G1Jx",
      "execution_count": 11,
      "outputs": []
    },
    {
      "cell_type": "code",
      "source": [
        "print(trans_mat)\n",
        "print(mat)"
      ],
      "metadata": {
        "colab": {
          "base_uri": "https://localhost:8080/"
        },
        "id": "6ashMaG_JC72",
        "outputId": "bb7e6c45-c5c4-433c-e88c-494be3db6a20"
      },
      "id": "6ashMaG_JC72",
      "execution_count": 12,
      "outputs": [
        {
          "output_type": "stream",
          "name": "stdout",
          "text": [
            "[[1, 2, 3], [11, 5, 6], [7, 8, 9]]\n",
            "[[1, 2, 3], [4, 5, 6], [7, 8, 9]]\n"
          ]
        }
      ]
    },
    {
      "cell_type": "code",
      "source": [
        "for i in range (3):\n",
        "  for j in range (3):\n",
        "    trans_mat[i][j] = mat[j][i]\n"
      ],
      "metadata": {
        "id": "TVCv0_ACJd2f"
      },
      "id": "TVCv0_ACJd2f",
      "execution_count": 13,
      "outputs": []
    },
    {
      "cell_type": "code",
      "source": [
        "print(trans_mat)\n",
        "print(mat)"
      ],
      "metadata": {
        "colab": {
          "base_uri": "https://localhost:8080/"
        },
        "id": "rT6WuJw7KTgW",
        "outputId": "89321dc0-697e-448f-8fdb-75033f02fdc7"
      },
      "id": "rT6WuJw7KTgW",
      "execution_count": 14,
      "outputs": [
        {
          "output_type": "stream",
          "name": "stdout",
          "text": [
            "[[1, 4, 7], [2, 5, 8], [3, 6, 9]]\n",
            "[[1, 2, 3], [4, 5, 6], [7, 8, 9]]\n"
          ]
        }
      ]
    },
    {
      "cell_type": "code",
      "source": [],
      "metadata": {
        "id": "BRuEOWizKWgm"
      },
      "id": "BRuEOWizKWgm",
      "execution_count": 14,
      "outputs": []
    },
    {
      "cell_type": "markdown",
      "source": [
        "Assignment 10: Flattening a Nested List\n",
        "Write a function that takes a nested list and flattens it into a single list. Print the original and flattened lists.\n",
        "\n",
        "Assignment 11: List Manipulation\n",
        "Create a list of the first 10 positive integers. Remove the elements at indices 2, 4, and 6, and insert the element '99' at index 5. Print the modified list.\n",
        "\n",
        "Assignment 12: List Zipping\n",
        "Create two lists of the same length. Use the zip function to combine these lists into a list of tuples and print the result.\n",
        "\n",
        "Assignment 13: List Reversal\n",
        "Write a function that takes a list and returns a new list with the elements in reverse order. Print the original and reversed lists.\n",
        "\n",
        "Assignment 14: List Rotation\n",
        "Write a function that rotates a list by n positions. Print the original and rotated lists.\n",
        "\n",
        "Assignment 15: List Intersection\n",
        "Write a function that takes two lists and returns a new list containing only the elements that are present in both lists. Print the intersected list."
      ],
      "metadata": {
        "id": "6LIDkQsXKfTg"
      },
      "id": "6LIDkQsXKfTg"
    },
    {
      "cell_type": "code",
      "source": [
        "nested_list = [[1,2,3],[4,5,6],[7,8,9]]\n",
        "flatten_list = [num for single_list in nested_list for num in single_list]\n",
        "flatten_list"
      ],
      "metadata": {
        "colab": {
          "base_uri": "https://localhost:8080/"
        },
        "id": "wdmSU8ojKh3t",
        "outputId": "0ea71324-c1c5-4915-dbbf-9e517188cdac"
      },
      "id": "wdmSU8ojKh3t",
      "execution_count": 17,
      "outputs": [
        {
          "output_type": "execute_result",
          "data": {
            "text/plain": [
              "[1, 2, 3, 4, 5, 6, 7, 8, 9]"
            ]
          },
          "metadata": {},
          "execution_count": 17
        }
      ]
    },
    {
      "cell_type": "code",
      "source": [
        "nums = [num for num in range(1,11)]\n",
        "nums\n"
      ],
      "metadata": {
        "colab": {
          "base_uri": "https://localhost:8080/"
        },
        "id": "lbMhZNweYJ-v",
        "outputId": "493cdb49-af53-4afb-82eb-687cc6fa2a68"
      },
      "id": "lbMhZNweYJ-v",
      "execution_count": 36,
      "outputs": [
        {
          "output_type": "execute_result",
          "data": {
            "text/plain": [
              "[1, 2, 3, 4, 5, 6, 7, 8, 9, 10]"
            ]
          },
          "metadata": {},
          "execution_count": 36
        }
      ]
    },
    {
      "cell_type": "code",
      "source": [
        "to_remove= [1,3,5]\n",
        "new_nums = [num for ind,num in enumerate(nums) if ind not in to_remove]"
      ],
      "metadata": {
        "id": "rCcC8zmtYk45"
      },
      "id": "rCcC8zmtYk45",
      "execution_count": 37,
      "outputs": []
    },
    {
      "cell_type": "code",
      "source": [
        "new_nums"
      ],
      "metadata": {
        "colab": {
          "base_uri": "https://localhost:8080/"
        },
        "id": "LcHe-3GSYll9",
        "outputId": "6b1717f2-2ac4-4a2b-d03d-ada2868b11cd"
      },
      "id": "LcHe-3GSYll9",
      "execution_count": 38,
      "outputs": [
        {
          "output_type": "execute_result",
          "data": {
            "text/plain": [
              "[1, 3, 5, 7, 8, 9, 10]"
            ]
          },
          "metadata": {},
          "execution_count": 38
        }
      ]
    },
    {
      "cell_type": "code",
      "source": [
        "new_nums.insert(5,99)"
      ],
      "metadata": {
        "id": "26h2hjYHZmyq"
      },
      "id": "26h2hjYHZmyq",
      "execution_count": 39,
      "outputs": []
    },
    {
      "cell_type": "code",
      "source": [
        "new_nums"
      ],
      "metadata": {
        "colab": {
          "base_uri": "https://localhost:8080/"
        },
        "id": "BmKtd1eIZ1qu",
        "outputId": "853d22bb-1287-46b4-901c-0f0b1ace8e50"
      },
      "id": "BmKtd1eIZ1qu",
      "execution_count": 40,
      "outputs": [
        {
          "output_type": "execute_result",
          "data": {
            "text/plain": [
              "[1, 3, 5, 7, 8, 99, 9, 10]"
            ]
          },
          "metadata": {},
          "execution_count": 40
        }
      ]
    },
    {
      "cell_type": "markdown",
      "source": [
        "Assignment 12: List Zipping Create two lists of the same length. Use the zip function to combine these lists into a list of tuples and print the result.\n",
        "\n",
        "Assignment 13: List Reversal Write a function that takes a list and returns a new list with the elements in reverse order. Print the original and reversed lists.\n",
        "\n",
        "Assignment 14: List Rotation Write a function that rotates a list by n positions. Print the original and rotated lists.\n",
        "\n",
        "Assignment 15: List Intersection Write a function that takes two lists and returns a new list containing only the elements that are present in both lists. Print the intersected list."
      ],
      "metadata": {
        "id": "fQkv-zWmaBIs"
      },
      "id": "fQkv-zWmaBIs"
    },
    {
      "cell_type": "code",
      "source": [
        "list_1 = [1,2,3]\n",
        "list_2 = [4,5,6]\n",
        "list_sum = zip(list_1,list_2)\n",
        "list(list_sum)\n"
      ],
      "metadata": {
        "colab": {
          "base_uri": "https://localhost:8080/"
        },
        "id": "J4I8MecBaDVG",
        "outputId": "aa9202e5-9267-48d4-ec40-b1508dc68aa3"
      },
      "id": "J4I8MecBaDVG",
      "execution_count": 47,
      "outputs": [
        {
          "output_type": "execute_result",
          "data": {
            "text/plain": [
              "[(1, 4), (2, 5), (3, 6)]"
            ]
          },
          "metadata": {},
          "execution_count": 47
        }
      ]
    },
    {
      "cell_type": "code",
      "source": [
        "list_1.reverse()\n",
        "list_1\n"
      ],
      "metadata": {
        "colab": {
          "base_uri": "https://localhost:8080/"
        },
        "id": "Uyq0mt98aTS9",
        "outputId": "bb8402cc-35f4-4192-8f1a-7e4739b200e1"
      },
      "id": "Uyq0mt98aTS9",
      "execution_count": 48,
      "outputs": [
        {
          "output_type": "execute_result",
          "data": {
            "text/plain": [
              "[3, 2, 1]"
            ]
          },
          "metadata": {},
          "execution_count": 48
        }
      ]
    },
    {
      "cell_type": "code",
      "source": [
        "list_1 = [1,2,3,4,5]\n",
        "n=2\n",
        "new_list= list_1[-n:] + list_1[:-n]\n",
        "new_list"
      ],
      "metadata": {
        "colab": {
          "base_uri": "https://localhost:8080/"
        },
        "id": "kWaOAE38agHE",
        "outputId": "97a5cd75-d076-4cca-b6e9-3dff6d8f4087"
      },
      "id": "kWaOAE38agHE",
      "execution_count": 54,
      "outputs": [
        {
          "output_type": "execute_result",
          "data": {
            "text/plain": [
              "[4, 5, 1, 2, 3]"
            ]
          },
          "metadata": {},
          "execution_count": 54
        }
      ]
    },
    {
      "cell_type": "code",
      "source": [
        "list_1= [1,2,3]\n",
        "list_2=[4,5,6,2]\n",
        "\n",
        "intersection_list = [num for num in list_1 if num in list_2]\n",
        "intersection_list"
      ],
      "metadata": {
        "colab": {
          "base_uri": "https://localhost:8080/"
        },
        "id": "7uOI16VNbZlB",
        "outputId": "d687f6f1-48e9-483a-f6f7-673303c035e6"
      },
      "id": "7uOI16VNbZlB",
      "execution_count": 55,
      "outputs": [
        {
          "output_type": "execute_result",
          "data": {
            "text/plain": [
              "[2]"
            ]
          },
          "metadata": {},
          "execution_count": 55
        }
      ]
    },
    {
      "cell_type": "code",
      "source": [
        "\n"
      ],
      "metadata": {
        "id": "163y1PqRdZrC"
      },
      "id": "163y1PqRdZrC",
      "execution_count": null,
      "outputs": []
    }
  ],
  "metadata": {
    "kernelspec": {
      "display_name": "Python 3",
      "language": "python",
      "name": "python3"
    },
    "language_info": {
      "codemirror_mode": {
        "name": "ipython",
        "version": 3
      },
      "file_extension": ".py",
      "mimetype": "text/x-python",
      "name": "python",
      "nbconvert_exporter": "python",
      "pygments_lexer": "ipython3",
      "version": "3.9.7"
    },
    "colab": {
      "provenance": []
    }
  },
  "nbformat": 4,
  "nbformat_minor": 5
}