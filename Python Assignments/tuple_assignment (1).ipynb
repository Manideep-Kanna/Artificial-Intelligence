{
  "cells": [
    {
      "cell_type": "markdown",
      "id": "6cade624",
      "metadata": {
        "id": "6cade624"
      },
      "source": [
        "# Module 3: Data Structures Assignments\n",
        "## Lesson 3.2: Tuples\n",
        "### Assignment 1: Creating and Accessing Tuples\n",
        "\n",
        "Create a tuple with the first 10 positive integers. Print the tuple.\n",
        "\n",
        "### Assignment 2: Accessing Tuple Elements\n",
        "\n",
        "Print the first, middle, and last elements of the tuple created in Assignment 1.\n",
        "\n",
        "### Assignment 3: Tuple Slicing\n",
        "\n",
        "Print the first three elements, the last three elements, and the elements from index 2 to 5 of the tuple created in Assignment 1.\n",
        "\n",
        "### Assignment 4: Nested Tuples\n",
        "\n",
        "Create a nested tuple representing a 3x3 matrix and print the matrix. Access and print the element at the second row and third column.\n",
        "\n",
        "### Assignment 5: Tuple Concatenation\n",
        "\n",
        "Concatenate two tuples: (1, 2, 3) and (4, 5, 6). Print the resulting tuple.\n",
        "\n",
        "### Assignment 6: Tuple Methods\n",
        "\n",
        "Create a tuple with duplicate elements and count the occurrences of an element. Find the index of the first occurrence of an element in the tuple.\n",
        "\n",
        "### Assignment 7: Unpacking Tuples\n",
        "\n",
        "Create a tuple with 5 elements and unpack it into 5 variables. Print the variables.\n",
        "\n",
        "### Assignment 8: Tuple Conversion\n",
        "\n",
        "Convert a list of the first 5 positive integers to a tuple. Print the tuple.\n",
        "\n",
        "### Assignment 9: Tuple of Tuples\n",
        "\n",
        "Create a tuple containing 3 tuples, each with 3 elements. Print the tuple of tuples.\n",
        "\n",
        "### Assignment 10: Tuple and List\n",
        "\n",
        "Create a tuple with the first 5 positive integers. Convert it to a list, append the number 6, and convert it back to a tuple. Print the resulting tuple.\n",
        "\n",
        "### Assignment 11: Tuple and String\n",
        "\n",
        "Create a tuple with the characters of a string. Join the tuple elements into a single string. Print the string.\n",
        "\n",
        "### Assignment 12: Tuple and Dictionary\n",
        "\n",
        "Create a dictionary with tuple keys and integer values. Print the dictionary.\n",
        "\n",
        "### Assignment 13: Nested Tuple Iteration\n",
        "\n",
        "Create a nested tuple and iterate over the elements, printing each element.\n",
        "\n",
        "### Assignment 14: Tuple and Set\n",
        "\n",
        "Create a tuple with duplicate elements. Convert it to a set to remove duplicates and print the resulting set.\n",
        "\n",
        "### Assignment 15: Tuple Functions\n",
        "\n",
        "Write functions that take a tuple and return the minimum, maximum, and sum of the elements. Print the results for a sample tuple."
      ]
    },
    {
      "cell_type": "markdown",
      "source": [],
      "metadata": {
        "id": "JrcuTM1Ik-OG"
      },
      "id": "JrcuTM1Ik-OG"
    },
    {
      "cell_type": "code",
      "execution_count": 1,
      "metadata": {
        "colab": {
          "base_uri": "https://localhost:8080/"
        },
        "id": "6_TYKCiogGWH",
        "outputId": "8721fde3-b451-4cc3-c252-d3f1d2c91b4a"
      },
      "outputs": [
        {
          "output_type": "execute_result",
          "data": {
            "text/plain": [
              "tuple"
            ]
          },
          "metadata": {},
          "execution_count": 1
        }
      ],
      "source": [
        "a = (1,2,3)\n",
        "type(a)"
      ],
      "id": "6_TYKCiogGWH"
    },
    {
      "cell_type": "code",
      "source": [
        "''.join(('k','a','n','n','a'))"
      ],
      "metadata": {
        "colab": {
          "base_uri": "https://localhost:8080/",
          "height": 36
        },
        "id": "tm4Wcxl1kKmy",
        "outputId": "4165a480-ee65-495d-a1bb-95d33bda820b"
      },
      "id": "tm4Wcxl1kKmy",
      "execution_count": 10,
      "outputs": [
        {
          "output_type": "execute_result",
          "data": {
            "text/plain": [
              "'kanna'"
            ],
            "application/vnd.google.colaboratory.intrinsic+json": {
              "type": "string"
            }
          },
          "metadata": {},
          "execution_count": 10
        }
      ]
    },
    {
      "cell_type": "code",
      "source": [
        "''.join(['k','a','n','n','a'])"
      ],
      "metadata": {
        "colab": {
          "base_uri": "https://localhost:8080/",
          "height": 36
        },
        "id": "O0tDoL2wkXtb",
        "outputId": "d57cdb7f-aa34-410e-a02b-e9cc2ca1f318"
      },
      "id": "O0tDoL2wkXtb",
      "execution_count": 9,
      "outputs": [
        {
          "output_type": "execute_result",
          "data": {
            "text/plain": [
              "'kanna'"
            ],
            "application/vnd.google.colaboratory.intrinsic+json": {
              "type": "string"
            }
          },
          "metadata": {},
          "execution_count": 9
        }
      ]
    },
    {
      "cell_type": "markdown",
      "source": [
        "Assignment 12: Tuple and Dictionary\n",
        "Create a dictionary with tuple keys and integer values. Print the dictionary.\n",
        "\n",
        "Assignment 13: Nested Tuple Iteration\n",
        "Create a nested tuple and iterate over the elements, printing each element.\n",
        "\n",
        "Assignment 14: Tuple and Set\n",
        "Create a tuple with duplicate elements. Convert it to a set to remove duplicates and print the resulting set.\n",
        "\n",
        "Assignment 15: Tuple Functions\n",
        "Write functions that take a tuple and return the minimum, maximum, and sum of the elements. Print the results for a sample tuple."
      ],
      "metadata": {
        "id": "Sxh4cIljk_rZ"
      },
      "id": "Sxh4cIljk_rZ"
    },
    {
      "cell_type": "code",
      "source": [
        "tup = ('kanna','mani','mahadev')\n",
        "a,b,c = tup\n",
        "dict_1 = {\n",
        "    a:1,\n",
        "    b:2,\n",
        "    c:3\n",
        "}\n",
        "dict_1"
      ],
      "metadata": {
        "colab": {
          "base_uri": "https://localhost:8080/"
        },
        "id": "mRSciLfdlBVX",
        "outputId": "6ddf91be-51c4-47a5-e59a-3fe3c5cc9d24"
      },
      "id": "mRSciLfdlBVX",
      "execution_count": 12,
      "outputs": [
        {
          "output_type": "execute_result",
          "data": {
            "text/plain": [
              "{'kanna': 1, 'mani': 2, 'mahadev': 3}"
            ]
          },
          "metadata": {},
          "execution_count": 12
        }
      ]
    },
    {
      "cell_type": "code",
      "source": [
        "tup = (1,1,2,3,4,1,1)\n",
        "tup_1 = tuple(set(tup))\n",
        "tup_1"
      ],
      "metadata": {
        "colab": {
          "base_uri": "https://localhost:8080/"
        },
        "id": "3IrZ4UyTlU0N",
        "outputId": "50a61082-1477-4afc-d7b6-c8e13454aef0"
      },
      "id": "3IrZ4UyTlU0N",
      "execution_count": 13,
      "outputs": [
        {
          "output_type": "execute_result",
          "data": {
            "text/plain": [
              "(1, 2, 3, 4)"
            ]
          },
          "metadata": {},
          "execution_count": 13
        }
      ]
    },
    {
      "cell_type": "code",
      "source": [],
      "metadata": {
        "id": "PDyjUeNvm7Kq"
      },
      "id": "PDyjUeNvm7Kq",
      "execution_count": null,
      "outputs": []
    }
  ],
  "metadata": {
    "kernelspec": {
      "display_name": "Python 3",
      "language": "python",
      "name": "python3"
    },
    "language_info": {
      "codemirror_mode": {
        "name": "ipython",
        "version": 3
      },
      "file_extension": ".py",
      "mimetype": "text/x-python",
      "name": "python",
      "nbconvert_exporter": "python",
      "pygments_lexer": "ipython3",
      "version": "3.9.7"
    },
    "colab": {
      "provenance": []
    }
  },
  "nbformat": 4,
  "nbformat_minor": 5
}