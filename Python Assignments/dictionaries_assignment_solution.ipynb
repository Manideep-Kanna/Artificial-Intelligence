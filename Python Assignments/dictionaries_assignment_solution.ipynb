{
  "cells": [
    {
      "cell_type": "markdown",
      "metadata": {
        "id": "LAalnCqA3zZx"
      },
      "source": [
        "# Module 3: Data Structures Assignments\n",
        "## Lesson 3.4: Dictionaries\n",
        "### Assignment 1: Creating and Accessing Dictionaries\n",
        "\n",
        "Create a dictionary with the first 10 positive integers as keys and their squares as values. Print the dictionary.\n",
        "\n",
        "### Assignment 2: Accessing Dictionary Elements\n",
        "\n",
        "Print the value of the key 5 and the keys of the dictionary created in Assignment 1.\n",
        "\n",
        "### Assignment 3: Dictionary Methods\n",
        "\n",
        "Add a new key-value pair (11, 121) to the dictionary created in Assignment 1 and then remove the key-value pair with key 1. Print the modified dictionary.\n",
        "\n",
        "### Assignment 4: Iterating Over Dictionaries\n",
        "\n",
        "Iterate over the dictionary created in Assignment 1 and print each key-value pair.\n",
        "\n",
        "### Assignment 5: Dictionary Comprehensions\n",
        "\n",
        "Create a new dictionary containing the cubes of the first 10 positive integers using a dictionary comprehension. Print the new dictionary.\n",
        "\n",
        "### Assignment 6: Merging Dictionaries\n",
        "\n",
        "Create two dictionaries: one with keys as the first 5 positive integers and values as their squares, and another with keys as the next 5 positive integers and values as their squares. Merge these dictionaries into a single dictionary and print it.\n",
        "\n",
        "### Assignment 7: Nested Dictionaries\n",
        "\n",
        "Create a nested dictionary representing a student with keys 'name', 'age', 'grades', where 'grades' is another dictionary with keys 'math', 'science', and 'english'. Print the nested dictionary.\n",
        "\n",
        "### Assignment 8: Dictionary of Lists\n",
        "\n",
        "Create a dictionary where the keys are the first 5 positive integers and the values are lists containing the first 5 multiples of the key. Print the dictionary.\n",
        "\n",
        "### Assignment 9: Dictionary of Tuples\n",
        "\n",
        "Create a dictionary where the keys are the first 5 positive integers and the values are tuples containing the key and its square. Print the dictionary.\n",
        "\n",
        "### Assignment 10: Dictionary and List Conversion\n",
        "\n",
        "Create a dictionary with the first 5 positive integers as keys and their squares as values. Convert the dictionary to a list of tuples and print it.\n",
        "\n",
        "### Assignment 11: Dictionary Filtering\n",
        "\n",
        "Create a dictionary with the first 10 positive integers as keys and their squares as values. Create a new dictionary containing only the key-value pairs where the key is even. Print the new dictionary.\n",
        "\n",
        "### Assignment 12: Dictionary Key and Value Transformation\n",
        "\n",
        "Create a dictionary with the first 5 positive integers as keys and their squares as values. Create a new dictionary with keys and values swapped. Print the new dictionary.\n",
        "\n",
        "### Assignment 13: Default Dictionary\n",
        "\n",
        "Create a default dictionary where each key has a default value of an empty list. Add some elements to the lists and print the dictionary.\n",
        "\n",
        "### Assignment 14: Counting with Dictionaries\n",
        "\n",
        "Write a function that takes a string and returns a dictionary with the count of each character in the string. Print the dictionary.\n",
        "\n",
        "### Assignment 15: Dictionary and JSON\n",
        "\n",
        "Create a dictionary representing a book with keys 'title', 'author', 'year', and 'genre'. Convert the dictionary to a JSON string and print it."
      ],
      "id": "LAalnCqA3zZx"
    },
    {
      "cell_type": "code",
      "execution_count": 1,
      "metadata": {
        "colab": {
          "base_uri": "https://localhost:8080/"
        },
        "id": "4ng3010A3zZ4",
        "outputId": "726092b5-41fc-453f-8017-c900d3c8b963"
      },
      "outputs": [
        {
          "output_type": "execute_result",
          "data": {
            "text/plain": [
              "{1: 1, 2: 4, 3: 9, 4: 16, 5: 25, 6: 36, 7: 49, 8: 64, 9: 81, 10: 100}"
            ]
          },
          "metadata": {},
          "execution_count": 1
        }
      ],
      "source": [
        "dict1 = {x:x**2 for x in range(1,11)}\n",
        "dict1"
      ],
      "id": "4ng3010A3zZ4"
    },
    {
      "cell_type": "code",
      "source": [
        "dict1[5]"
      ],
      "metadata": {
        "colab": {
          "base_uri": "https://localhost:8080/"
        },
        "id": "hAxi_fuw4DjV",
        "outputId": "e2777fe9-a9a3-4b2c-c73f-609a63410ea9"
      },
      "id": "hAxi_fuw4DjV",
      "execution_count": 2,
      "outputs": [
        {
          "output_type": "execute_result",
          "data": {
            "text/plain": [
              "25"
            ]
          },
          "metadata": {},
          "execution_count": 2
        }
      ]
    },
    {
      "cell_type": "code",
      "source": [
        "dict1.keys()"
      ],
      "metadata": {
        "colab": {
          "base_uri": "https://localhost:8080/"
        },
        "id": "Xp8jdlRm4TqY",
        "outputId": "ea0a4cc6-9de9-4906-eb35-f39057c71c7c"
      },
      "id": "Xp8jdlRm4TqY",
      "execution_count": 4,
      "outputs": [
        {
          "output_type": "execute_result",
          "data": {
            "text/plain": [
              "dict_keys([1, 2, 3, 4, 5, 6, 7, 8, 9, 10])"
            ]
          },
          "metadata": {},
          "execution_count": 4
        }
      ]
    },
    {
      "cell_type": "code",
      "source": [
        "dict1[11] = 121"
      ],
      "metadata": {
        "id": "pLHE8I5q4WkA"
      },
      "id": "pLHE8I5q4WkA",
      "execution_count": 5,
      "outputs": []
    },
    {
      "cell_type": "code",
      "source": [
        "dict1"
      ],
      "metadata": {
        "colab": {
          "base_uri": "https://localhost:8080/"
        },
        "id": "UXiDewLE4svk",
        "outputId": "065227de-ab73-46bb-908a-9d8c8a10b9a6"
      },
      "id": "UXiDewLE4svk",
      "execution_count": 6,
      "outputs": [
        {
          "output_type": "execute_result",
          "data": {
            "text/plain": [
              "{1: 1, 2: 4, 3: 9, 4: 16, 5: 25, 6: 36, 7: 49, 8: 64, 9: 81, 10: 100, 11: 121}"
            ]
          },
          "metadata": {},
          "execution_count": 6
        }
      ]
    },
    {
      "cell_type": "code",
      "source": [
        "del dict1[5]"
      ],
      "metadata": {
        "id": "eWtHqI5f4ue-"
      },
      "id": "eWtHqI5f4ue-",
      "execution_count": 7,
      "outputs": []
    },
    {
      "cell_type": "code",
      "source": [
        "dict1"
      ],
      "metadata": {
        "colab": {
          "base_uri": "https://localhost:8080/"
        },
        "id": "ulpcbjX-4xUO",
        "outputId": "f5eaa44a-3a39-4b4f-edb5-5df16adf1b80"
      },
      "id": "ulpcbjX-4xUO",
      "execution_count": 8,
      "outputs": [
        {
          "output_type": "execute_result",
          "data": {
            "text/plain": [
              "{1: 1, 2: 4, 3: 9, 4: 16, 6: 36, 7: 49, 8: 64, 9: 81, 10: 100, 11: 121}"
            ]
          },
          "metadata": {},
          "execution_count": 8
        }
      ]
    },
    {
      "cell_type": "code",
      "source": [
        "for key,value in dict1.items():\n",
        "  print(f\"{key} : {value}\")"
      ],
      "metadata": {
        "colab": {
          "base_uri": "https://localhost:8080/"
        },
        "id": "XZ4u1fUm4ykI",
        "outputId": "c84919d1-3ded-4d8b-d2ed-dab9988a2da8"
      },
      "id": "XZ4u1fUm4ykI",
      "execution_count": 9,
      "outputs": [
        {
          "output_type": "stream",
          "name": "stdout",
          "text": [
            "1 : 1\n",
            "2 : 4\n",
            "3 : 9\n",
            "4 : 16\n",
            "6 : 36\n",
            "7 : 49\n",
            "8 : 64\n",
            "9 : 81\n",
            "10 : 100\n",
            "11 : 121\n"
          ]
        }
      ]
    },
    {
      "cell_type": "code",
      "source": [
        "dict2 = {x: x**2 for x in range(12,16)}\n",
        "dict2"
      ],
      "metadata": {
        "colab": {
          "base_uri": "https://localhost:8080/"
        },
        "id": "SJrFkuFM48Rc",
        "outputId": "8d10e093-0873-4118-9bc5-974b708a6a8e"
      },
      "id": "SJrFkuFM48Rc",
      "execution_count": 10,
      "outputs": [
        {
          "output_type": "execute_result",
          "data": {
            "text/plain": [
              "{12: 144, 13: 169, 14: 196, 15: 225}"
            ]
          },
          "metadata": {},
          "execution_count": 10
        }
      ]
    },
    {
      "cell_type": "code",
      "source": [
        "merged_dict = {**dict1, **dict2}\n",
        "merged_dict"
      ],
      "metadata": {
        "colab": {
          "base_uri": "https://localhost:8080/"
        },
        "id": "aWPbce6N5Nap",
        "outputId": "aa5ec5c8-f992-4880-fb93-76458e222ffa"
      },
      "id": "aWPbce6N5Nap",
      "execution_count": 12,
      "outputs": [
        {
          "output_type": "execute_result",
          "data": {
            "text/plain": [
              "{1: 1,\n",
              " 2: 4,\n",
              " 3: 9,\n",
              " 4: 16,\n",
              " 6: 36,\n",
              " 7: 49,\n",
              " 8: 64,\n",
              " 9: 81,\n",
              " 10: 100,\n",
              " 11: 121,\n",
              " 12: 144,\n",
              " 13: 169,\n",
              " 14: 196,\n",
              " 15: 225}"
            ]
          },
          "metadata": {},
          "execution_count": 12
        }
      ]
    },
    {
      "cell_type": "code",
      "source": [
        "multiples_dict = {}\n",
        "\n",
        "for num in range(1,6):\n",
        "  lis = []\n",
        "  for i in range(1,6):\n",
        "    lis.append(num * i)\n",
        "\n",
        "  multiples_dict[num] = lis\n",
        "\n",
        "multiples_dict"
      ],
      "metadata": {
        "colab": {
          "base_uri": "https://localhost:8080/"
        },
        "id": "sNwcwEHl5RzN",
        "outputId": "783f18f4-5ac0-47b1-93a6-5eb65bedbcc0"
      },
      "id": "sNwcwEHl5RzN",
      "execution_count": 13,
      "outputs": [
        {
          "output_type": "execute_result",
          "data": {
            "text/plain": [
              "{1: [1, 2, 3, 4, 5],\n",
              " 2: [2, 4, 6, 8, 10],\n",
              " 3: [3, 6, 9, 12, 15],\n",
              " 4: [4, 8, 12, 16, 20],\n",
              " 5: [5, 10, 15, 20, 25]}"
            ]
          },
          "metadata": {},
          "execution_count": 13
        }
      ]
    },
    {
      "cell_type": "code",
      "source": [
        "dict1"
      ],
      "metadata": {
        "colab": {
          "base_uri": "https://localhost:8080/"
        },
        "id": "5slbiERB8AxK",
        "outputId": "68316220-4705-447c-e406-4e9ca68c7e90"
      },
      "id": "5slbiERB8AxK",
      "execution_count": 14,
      "outputs": [
        {
          "output_type": "execute_result",
          "data": {
            "text/plain": [
              "{1: 1, 2: 4, 3: 9, 4: 16, 6: 36, 7: 49, 8: 64, 9: 81, 10: 100, 11: 121}"
            ]
          },
          "metadata": {},
          "execution_count": 14
        }
      ]
    },
    {
      "cell_type": "code",
      "source": [
        "lis = [(k,v) for k,v in dict1.items()]\n",
        "lis"
      ],
      "metadata": {
        "colab": {
          "base_uri": "https://localhost:8080/"
        },
        "id": "kiPF0jO68LrF",
        "outputId": "9673d088-c41e-4820-ccaf-a576b5e40937"
      },
      "id": "kiPF0jO68LrF",
      "execution_count": 15,
      "outputs": [
        {
          "output_type": "execute_result",
          "data": {
            "text/plain": [
              "[(1, 1),\n",
              " (2, 4),\n",
              " (3, 9),\n",
              " (4, 16),\n",
              " (6, 36),\n",
              " (7, 49),\n",
              " (8, 64),\n",
              " (9, 81),\n",
              " (10, 100),\n",
              " (11, 121)]"
            ]
          },
          "metadata": {},
          "execution_count": 15
        }
      ]
    },
    {
      "cell_type": "code",
      "source": [
        "dict1 = {x:x**2 for x in range(1,6)}\n",
        "dict1"
      ],
      "metadata": {
        "colab": {
          "base_uri": "https://localhost:8080/"
        },
        "id": "1b_AvhZU8hkm",
        "outputId": "05e9f2b9-dda4-4658-a731-ae9d467d7847"
      },
      "id": "1b_AvhZU8hkm",
      "execution_count": 16,
      "outputs": [
        {
          "output_type": "execute_result",
          "data": {
            "text/plain": [
              "{1: 1, 2: 4, 3: 9, 4: 16, 5: 25}"
            ]
          },
          "metadata": {},
          "execution_count": 16
        }
      ]
    },
    {
      "cell_type": "code",
      "source": [
        "dict2 = {}\n",
        "for k,v in dict1.items():\n",
        "  dict2[v] = k\n",
        "\n",
        "dict2"
      ],
      "metadata": {
        "colab": {
          "base_uri": "https://localhost:8080/"
        },
        "id": "T1tzi_n08xmW",
        "outputId": "4f3a9a06-fa12-4b9b-ecd3-ece335bf49f7"
      },
      "id": "T1tzi_n08xmW",
      "execution_count": 18,
      "outputs": [
        {
          "output_type": "execute_result",
          "data": {
            "text/plain": [
              "{1: 1, 4: 2, 9: 3, 2: 4, 25: 5, 3: 9}"
            ]
          },
          "metadata": {},
          "execution_count": 18
        }
      ]
    },
    {
      "cell_type": "markdown",
      "source": [
        "Assignment 11: Dictionary Filtering\n",
        "Create a dictionary with the first 10 positive integers as keys and their squares as values. Create a new dictionary containing only the key-value pairs where the key is even. Print the new dictionary.\n",
        "\n",
        "Assignment 12: Dictionary Key and Value Transformation\n",
        "Create a dictionary with the first 5 positive integers as keys and their squares as values. Create a new dictionary with keys and values swapped. Print the new dictionary.\n",
        "\n",
        "Assignment 13: Default Dictionary\n",
        "Create a default dictionary where each key has a default value of an empty list. Add some elements to the lists and print the dictionary.\n",
        "\n",
        "Assignment 14: Counting with Dictionaries\n",
        "Write a function that takes a string and returns a dictionary with the count of each character in the string. Print the dictionary.\n",
        "\n",
        "Assignment 15: Dictionary and JSON\n",
        "Create a dictionary representing a book with keys 'title', 'author', 'year', and 'genre'. Convert the dictionary to a JSON string and print it."
      ],
      "metadata": {
        "id": "BXLEuSSZFr8b"
      },
      "id": "BXLEuSSZFr8b"
    },
    {
      "cell_type": "code",
      "source": [
        "dict1 = {x: x**2 for x in range(10)}\n",
        "dict1"
      ],
      "metadata": {
        "colab": {
          "base_uri": "https://localhost:8080/"
        },
        "id": "-3H-7WErFstj",
        "outputId": "ada15227-edb7-4172-ee70-429243e705d1"
      },
      "id": "-3H-7WErFstj",
      "execution_count": 19,
      "outputs": [
        {
          "output_type": "execute_result",
          "data": {
            "text/plain": [
              "{0: 0, 1: 1, 2: 4, 3: 9, 4: 16, 5: 25, 6: 36, 7: 49, 8: 64, 9: 81}"
            ]
          },
          "metadata": {},
          "execution_count": 19
        }
      ]
    },
    {
      "cell_type": "code",
      "source": [
        "filtered_dict = {k:v for k,v in dict1.items() if k%2==0}\n",
        "filtered_dict"
      ],
      "metadata": {
        "colab": {
          "base_uri": "https://localhost:8080/"
        },
        "id": "WGJRBJNUF7AJ",
        "outputId": "90ff67f2-96af-4e7a-9cc1-cb84b00ebb21"
      },
      "id": "WGJRBJNUF7AJ",
      "execution_count": 20,
      "outputs": [
        {
          "output_type": "execute_result",
          "data": {
            "text/plain": [
              "{0: 0, 2: 4, 4: 16, 6: 36, 8: 64}"
            ]
          },
          "metadata": {},
          "execution_count": 20
        }
      ]
    },
    {
      "cell_type": "code",
      "source": [
        "from collections import defaultdict\n",
        "my_dict = defaultdict(list)\n",
        "my_dict[\"apple\"].append(\"kanna\")\n",
        "my_dict"
      ],
      "metadata": {
        "colab": {
          "base_uri": "https://localhost:8080/"
        },
        "id": "9P6-itZFGRLD",
        "outputId": "63891f1a-8955-4be4-da73-041e0f787606"
      },
      "id": "9P6-itZFGRLD",
      "execution_count": 23,
      "outputs": [
        {
          "output_type": "execute_result",
          "data": {
            "text/plain": [
              "defaultdict(list, {'apple': ['kanna']})"
            ]
          },
          "metadata": {},
          "execution_count": 23
        }
      ]
    },
    {
      "cell_type": "code",
      "source": [
        "sentence = \"This is a something that Im good at the programming\"\n",
        "\n",
        "hash = {}\n",
        "\n",
        "for char in sentence:\n",
        "  if char not in hash:\n",
        "    hash[char] = 1\n",
        "  else:\n",
        "    hash[char] +=1\n",
        "\n"
      ],
      "metadata": {
        "id": "hmNuJ25hHMua"
      },
      "id": "hmNuJ25hHMua",
      "execution_count": 24,
      "outputs": []
    },
    {
      "cell_type": "code",
      "source": [
        "hash"
      ],
      "metadata": {
        "colab": {
          "base_uri": "https://localhost:8080/"
        },
        "id": "0QclxPhtIGlO",
        "outputId": "e8c6e983-e0ad-4c2c-e662-dca1648e05a4"
      },
      "id": "0QclxPhtIGlO",
      "execution_count": 25,
      "outputs": [
        {
          "output_type": "execute_result",
          "data": {
            "text/plain": [
              "{'T': 1,\n",
              " 'h': 4,\n",
              " 'i': 4,\n",
              " 's': 3,\n",
              " ' ': 9,\n",
              " 'a': 4,\n",
              " 'o': 4,\n",
              " 'm': 4,\n",
              " 'e': 2,\n",
              " 't': 5,\n",
              " 'n': 2,\n",
              " 'g': 4,\n",
              " 'I': 1,\n",
              " 'd': 1,\n",
              " 'p': 1,\n",
              " 'r': 2}"
            ]
          },
          "metadata": {},
          "execution_count": 25
        }
      ]
    },
    {
      "cell_type": "code",
      "source": [
        "book = {\n",
        "    \"title\": \"Na chavu nenu chstha neeku ndhuku\",\n",
        "    \"author\": \"kanna\",\n",
        "    \"year\": 2022,\n",
        "    \"genre\": \"comedy\"\n",
        "\n",
        "}"
      ],
      "metadata": {
        "id": "6r_7AKn5IHgX"
      },
      "id": "6r_7AKn5IHgX",
      "execution_count": 26,
      "outputs": []
    },
    {
      "cell_type": "code",
      "source": [
        "import json\n",
        "\n",
        "json.dumps(book)"
      ],
      "metadata": {
        "colab": {
          "base_uri": "https://localhost:8080/",
          "height": 36
        },
        "id": "_1RHOUhpJLpO",
        "outputId": "ea9c01a6-972e-49e1-9ab6-5d9ca1631a66"
      },
      "id": "_1RHOUhpJLpO",
      "execution_count": 29,
      "outputs": [
        {
          "output_type": "execute_result",
          "data": {
            "text/plain": [
              "'{\"title\": \"Na chavu nenu chstha neeku ndhuku\", \"author\": \"kanna\", \"year\": 2022, \"genre\": \"comedy\"}'"
            ],
            "application/vnd.google.colaboratory.intrinsic+json": {
              "type": "string"
            }
          },
          "metadata": {},
          "execution_count": 29
        }
      ]
    },
    {
      "cell_type": "code",
      "source": [],
      "metadata": {
        "id": "PgmsQ3N6JOJY"
      },
      "id": "PgmsQ3N6JOJY",
      "execution_count": null,
      "outputs": []
    }
  ],
  "metadata": {
    "kernelspec": {
      "display_name": "Python 3",
      "language": "python",
      "name": "python3"
    },
    "language_info": {
      "codemirror_mode": {
        "name": "ipython",
        "version": 3
      },
      "file_extension": ".py",
      "mimetype": "text/x-python",
      "name": "python",
      "nbconvert_exporter": "python",
      "pygments_lexer": "ipython3",
      "version": "3.9.7"
    },
    "colab": {
      "provenance": []
    }
  },
  "nbformat": 4,
  "nbformat_minor": 5
}