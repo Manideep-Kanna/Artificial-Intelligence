{
  "nbformat": 4,
  "nbformat_minor": 0,
  "metadata": {
    "colab": {
      "provenance": []
    },
    "kernelspec": {
      "name": "python3",
      "display_name": "Python 3"
    },
    "language_info": {
      "name": "python"
    }
  },
  "cells": [
    {
      "cell_type": "code",
      "execution_count": null,
      "metadata": {
        "colab": {
          "base_uri": "https://localhost:8080/"
        },
        "id": "pEKMdechSWxT",
        "outputId": "9ee1b0bd-0eb3-41f7-cd2f-6526d551a5eb"
      },
      "outputs": [
        {
          "output_type": "stream",
          "name": "stdout",
          "text": [
            "\u001b[?25l   \u001b[90m━━━━━━━━━━━━━━━━━━━━━━━━━━━━━━━━━━━━━━━━\u001b[0m \u001b[32m0.0/389.5 kB\u001b[0m \u001b[31m?\u001b[0m eta \u001b[36m-:--:--\u001b[0m\r\u001b[2K   \u001b[91m━━━━━━━━━━━━━━━━━━━━━━━━━━━━━━━━━━━━━━━\u001b[0m\u001b[91m╸\u001b[0m \u001b[32m389.1/389.5 kB\u001b[0m \u001b[31m15.0 MB/s\u001b[0m eta \u001b[36m0:00:01\u001b[0m\r\u001b[2K   \u001b[90m━━━━━━━━━━━━━━━━━━━━━━━━━━━━━━━━━━━━━━━━\u001b[0m \u001b[32m389.5/389.5 kB\u001b[0m \u001b[31m8.4 MB/s\u001b[0m eta \u001b[36m0:00:00\u001b[0m\n",
            "\u001b[?25h\u001b[?25l   \u001b[90m━━━━━━━━━━━━━━━━━━━━━━━━━━━━━━━━━━━━━━━━\u001b[0m \u001b[32m0.0/1.0 MB\u001b[0m \u001b[31m?\u001b[0m eta \u001b[36m-:--:--\u001b[0m\r\u001b[2K   \u001b[90m━━━━━━━━━━━━━━━━━━━━━━━━━━━━━━━━━━━━━━━━\u001b[0m \u001b[32m1.0/1.0 MB\u001b[0m \u001b[31m24.5 MB/s\u001b[0m eta \u001b[36m0:00:00\u001b[0m\n",
            "\u001b[2K   \u001b[90m━━━━━━━━━━━━━━━━━━━━━━━━━━━━━━━━━━━━━━━━\u001b[0m \u001b[32m50.6/50.6 kB\u001b[0m \u001b[31m2.6 MB/s\u001b[0m eta \u001b[36m0:00:00\u001b[0m\n",
            "\u001b[2K   \u001b[90m━━━━━━━━━━━━━━━━━━━━━━━━━━━━━━━━━━━━━━━━\u001b[0m \u001b[32m2.4/2.4 MB\u001b[0m \u001b[31m37.9 MB/s\u001b[0m eta \u001b[36m0:00:00\u001b[0m\n",
            "\u001b[2K   \u001b[90m━━━━━━━━━━━━━━━━━━━━━━━━━━━━━━━━━━━━━━━━\u001b[0m \u001b[32m409.5/409.5 kB\u001b[0m \u001b[31m19.9 MB/s\u001b[0m eta \u001b[36m0:00:00\u001b[0m\n",
            "\u001b[2K   \u001b[90m━━━━━━━━━━━━━━━━━━━━━━━━━━━━━━━━━━━━━━━━\u001b[0m \u001b[32m3.1/3.1 MB\u001b[0m \u001b[31m47.8 MB/s\u001b[0m eta \u001b[36m0:00:00\u001b[0m\n",
            "\u001b[2K   \u001b[90m━━━━━━━━━━━━━━━━━━━━━━━━━━━━━━━━━━━━━━━━\u001b[0m \u001b[32m1.2/1.2 MB\u001b[0m \u001b[31m41.5 MB/s\u001b[0m eta \u001b[36m0:00:00\u001b[0m\n",
            "\u001b[2K   \u001b[90m━━━━━━━━━━━━━━━━━━━━━━━━━━━━━━━━━━━━━━━━\u001b[0m \u001b[32m49.5/49.5 kB\u001b[0m \u001b[31m2.8 MB/s\u001b[0m eta \u001b[36m0:00:00\u001b[0m\n",
            "\u001b[?25h"
          ]
        }
      ],
      "source": [
        "! pip install -qU openai python-dotenv langchain langchain-openai langchain_community"
      ]
    },
    {
      "cell_type": "code",
      "source": [
        "import os\n",
        "from dotenv import load_dotenv,find_dotenv\n",
        "\n",
        "load_dotenv(find_dotenv())\n",
        "os.environ[\"OPENAI_API_KEY\"] = os.getenv(\"OPEN_API_KEY\")"
      ],
      "metadata": {
        "id": "LyTFnpHATFKu"
      },
      "execution_count": null,
      "outputs": []
    },
    {
      "cell_type": "code",
      "source": [
        "from langchain.chains import RetrievalQA\n",
        "from langchain_openai import ChatOpenAI\n",
        "from langchain.document_loaders import CSVLoader\n",
        "from langchain.vectorstores import DocArrayInMemorySearch\n",
        "from IPython.display import display, Markdown\n",
        "import pandas as pd"
      ],
      "metadata": {
        "id": "nXVUSp-mTqk1"
      },
      "execution_count": null,
      "outputs": []
    },
    {
      "cell_type": "code",
      "source": [
        "loader = CSVLoader(\"sample.csv\")\n",
        "df = pd.read_csv(\"sample.csv\")\n",
        "data = loader.load()"
      ],
      "metadata": {
        "id": "u-7fjp9RT86C"
      },
      "execution_count": null,
      "outputs": []
    },
    {
      "cell_type": "code",
      "source": [
        "df.head()"
      ],
      "metadata": {
        "colab": {
          "base_uri": "https://localhost:8080/",
          "height": 310
        },
        "id": "hQpeLDqCWTo4",
        "outputId": "6f3e37b2-4932-4fd3-cf0a-ec5806a8762a"
      },
      "execution_count": null,
      "outputs": [
        {
          "output_type": "execute_result",
          "data": {
            "text/plain": [
              "   Unnamed: 0                                               name  \\\n",
              "0           0                           Women's Campside Oxfords   \n",
              "1           1           Recycled Waterhog Dog Mat, Chevron Weave   \n",
              "2           2  Infant and Toddler Girls' Coastal Chill Swimsu...   \n",
              "3           3         Refresh Swimwear, V-Neck Tankini Contrasts   \n",
              "4           4                             EcoFlex 3L Storm Pants   \n",
              "\n",
              "                                         description  \n",
              "0  This ultracomfortable lace-to-toe Oxford boast...  \n",
              "1  Protect your floors from spills and splashing ...  \n",
              "2  She'll love the bright colors, ruffles and exc...  \n",
              "3  Whether you're going for a swim or heading out...  \n",
              "4  Our new TEK O2 technology makes our four-seaso...  "
            ],
            "text/html": [
              "\n",
              "  <div id=\"df-60edc134-97c4-40bc-96cd-7a0ee9db9fa1\" class=\"colab-df-container\">\n",
              "    <div>\n",
              "<style scoped>\n",
              "    .dataframe tbody tr th:only-of-type {\n",
              "        vertical-align: middle;\n",
              "    }\n",
              "\n",
              "    .dataframe tbody tr th {\n",
              "        vertical-align: top;\n",
              "    }\n",
              "\n",
              "    .dataframe thead th {\n",
              "        text-align: right;\n",
              "    }\n",
              "</style>\n",
              "<table border=\"1\" class=\"dataframe\">\n",
              "  <thead>\n",
              "    <tr style=\"text-align: right;\">\n",
              "      <th></th>\n",
              "      <th>Unnamed: 0</th>\n",
              "      <th>name</th>\n",
              "      <th>description</th>\n",
              "    </tr>\n",
              "  </thead>\n",
              "  <tbody>\n",
              "    <tr>\n",
              "      <th>0</th>\n",
              "      <td>0</td>\n",
              "      <td>Women's Campside Oxfords</td>\n",
              "      <td>This ultracomfortable lace-to-toe Oxford boast...</td>\n",
              "    </tr>\n",
              "    <tr>\n",
              "      <th>1</th>\n",
              "      <td>1</td>\n",
              "      <td>Recycled Waterhog Dog Mat, Chevron Weave</td>\n",
              "      <td>Protect your floors from spills and splashing ...</td>\n",
              "    </tr>\n",
              "    <tr>\n",
              "      <th>2</th>\n",
              "      <td>2</td>\n",
              "      <td>Infant and Toddler Girls' Coastal Chill Swimsu...</td>\n",
              "      <td>She'll love the bright colors, ruffles and exc...</td>\n",
              "    </tr>\n",
              "    <tr>\n",
              "      <th>3</th>\n",
              "      <td>3</td>\n",
              "      <td>Refresh Swimwear, V-Neck Tankini Contrasts</td>\n",
              "      <td>Whether you're going for a swim or heading out...</td>\n",
              "    </tr>\n",
              "    <tr>\n",
              "      <th>4</th>\n",
              "      <td>4</td>\n",
              "      <td>EcoFlex 3L Storm Pants</td>\n",
              "      <td>Our new TEK O2 technology makes our four-seaso...</td>\n",
              "    </tr>\n",
              "  </tbody>\n",
              "</table>\n",
              "</div>\n",
              "    <div class=\"colab-df-buttons\">\n",
              "\n",
              "  <div class=\"colab-df-container\">\n",
              "    <button class=\"colab-df-convert\" onclick=\"convertToInteractive('df-60edc134-97c4-40bc-96cd-7a0ee9db9fa1')\"\n",
              "            title=\"Convert this dataframe to an interactive table.\"\n",
              "            style=\"display:none;\">\n",
              "\n",
              "  <svg xmlns=\"http://www.w3.org/2000/svg\" height=\"24px\" viewBox=\"0 -960 960 960\">\n",
              "    <path d=\"M120-120v-720h720v720H120Zm60-500h600v-160H180v160Zm220 220h160v-160H400v160Zm0 220h160v-160H400v160ZM180-400h160v-160H180v160Zm440 0h160v-160H620v160ZM180-180h160v-160H180v160Zm440 0h160v-160H620v160Z\"/>\n",
              "  </svg>\n",
              "    </button>\n",
              "\n",
              "  <style>\n",
              "    .colab-df-container {\n",
              "      display:flex;\n",
              "      gap: 12px;\n",
              "    }\n",
              "\n",
              "    .colab-df-convert {\n",
              "      background-color: #E8F0FE;\n",
              "      border: none;\n",
              "      border-radius: 50%;\n",
              "      cursor: pointer;\n",
              "      display: none;\n",
              "      fill: #1967D2;\n",
              "      height: 32px;\n",
              "      padding: 0 0 0 0;\n",
              "      width: 32px;\n",
              "    }\n",
              "\n",
              "    .colab-df-convert:hover {\n",
              "      background-color: #E2EBFA;\n",
              "      box-shadow: 0px 1px 2px rgba(60, 64, 67, 0.3), 0px 1px 3px 1px rgba(60, 64, 67, 0.15);\n",
              "      fill: #174EA6;\n",
              "    }\n",
              "\n",
              "    .colab-df-buttons div {\n",
              "      margin-bottom: 4px;\n",
              "    }\n",
              "\n",
              "    [theme=dark] .colab-df-convert {\n",
              "      background-color: #3B4455;\n",
              "      fill: #D2E3FC;\n",
              "    }\n",
              "\n",
              "    [theme=dark] .colab-df-convert:hover {\n",
              "      background-color: #434B5C;\n",
              "      box-shadow: 0px 1px 3px 1px rgba(0, 0, 0, 0.15);\n",
              "      filter: drop-shadow(0px 1px 2px rgba(0, 0, 0, 0.3));\n",
              "      fill: #FFFFFF;\n",
              "    }\n",
              "  </style>\n",
              "\n",
              "    <script>\n",
              "      const buttonEl =\n",
              "        document.querySelector('#df-60edc134-97c4-40bc-96cd-7a0ee9db9fa1 button.colab-df-convert');\n",
              "      buttonEl.style.display =\n",
              "        google.colab.kernel.accessAllowed ? 'block' : 'none';\n",
              "\n",
              "      async function convertToInteractive(key) {\n",
              "        const element = document.querySelector('#df-60edc134-97c4-40bc-96cd-7a0ee9db9fa1');\n",
              "        const dataTable =\n",
              "          await google.colab.kernel.invokeFunction('convertToInteractive',\n",
              "                                                    [key], {});\n",
              "        if (!dataTable) return;\n",
              "\n",
              "        const docLinkHtml = 'Like what you see? Visit the ' +\n",
              "          '<a target=\"_blank\" href=https://colab.research.google.com/notebooks/data_table.ipynb>data table notebook</a>'\n",
              "          + ' to learn more about interactive tables.';\n",
              "        element.innerHTML = '';\n",
              "        dataTable['output_type'] = 'display_data';\n",
              "        await google.colab.output.renderOutput(dataTable, element);\n",
              "        const docLink = document.createElement('div');\n",
              "        docLink.innerHTML = docLinkHtml;\n",
              "        element.appendChild(docLink);\n",
              "      }\n",
              "    </script>\n",
              "  </div>\n",
              "\n",
              "\n",
              "<div id=\"df-1520f9b2-f6e9-4dc0-be68-eab7b5dcb51f\">\n",
              "  <button class=\"colab-df-quickchart\" onclick=\"quickchart('df-1520f9b2-f6e9-4dc0-be68-eab7b5dcb51f')\"\n",
              "            title=\"Suggest charts\"\n",
              "            style=\"display:none;\">\n",
              "\n",
              "<svg xmlns=\"http://www.w3.org/2000/svg\" height=\"24px\"viewBox=\"0 0 24 24\"\n",
              "     width=\"24px\">\n",
              "    <g>\n",
              "        <path d=\"M19 3H5c-1.1 0-2 .9-2 2v14c0 1.1.9 2 2 2h14c1.1 0 2-.9 2-2V5c0-1.1-.9-2-2-2zM9 17H7v-7h2v7zm4 0h-2V7h2v10zm4 0h-2v-4h2v4z\"/>\n",
              "    </g>\n",
              "</svg>\n",
              "  </button>\n",
              "\n",
              "<style>\n",
              "  .colab-df-quickchart {\n",
              "      --bg-color: #E8F0FE;\n",
              "      --fill-color: #1967D2;\n",
              "      --hover-bg-color: #E2EBFA;\n",
              "      --hover-fill-color: #174EA6;\n",
              "      --disabled-fill-color: #AAA;\n",
              "      --disabled-bg-color: #DDD;\n",
              "  }\n",
              "\n",
              "  [theme=dark] .colab-df-quickchart {\n",
              "      --bg-color: #3B4455;\n",
              "      --fill-color: #D2E3FC;\n",
              "      --hover-bg-color: #434B5C;\n",
              "      --hover-fill-color: #FFFFFF;\n",
              "      --disabled-bg-color: #3B4455;\n",
              "      --disabled-fill-color: #666;\n",
              "  }\n",
              "\n",
              "  .colab-df-quickchart {\n",
              "    background-color: var(--bg-color);\n",
              "    border: none;\n",
              "    border-radius: 50%;\n",
              "    cursor: pointer;\n",
              "    display: none;\n",
              "    fill: var(--fill-color);\n",
              "    height: 32px;\n",
              "    padding: 0;\n",
              "    width: 32px;\n",
              "  }\n",
              "\n",
              "  .colab-df-quickchart:hover {\n",
              "    background-color: var(--hover-bg-color);\n",
              "    box-shadow: 0 1px 2px rgba(60, 64, 67, 0.3), 0 1px 3px 1px rgba(60, 64, 67, 0.15);\n",
              "    fill: var(--button-hover-fill-color);\n",
              "  }\n",
              "\n",
              "  .colab-df-quickchart-complete:disabled,\n",
              "  .colab-df-quickchart-complete:disabled:hover {\n",
              "    background-color: var(--disabled-bg-color);\n",
              "    fill: var(--disabled-fill-color);\n",
              "    box-shadow: none;\n",
              "  }\n",
              "\n",
              "  .colab-df-spinner {\n",
              "    border: 2px solid var(--fill-color);\n",
              "    border-color: transparent;\n",
              "    border-bottom-color: var(--fill-color);\n",
              "    animation:\n",
              "      spin 1s steps(1) infinite;\n",
              "  }\n",
              "\n",
              "  @keyframes spin {\n",
              "    0% {\n",
              "      border-color: transparent;\n",
              "      border-bottom-color: var(--fill-color);\n",
              "      border-left-color: var(--fill-color);\n",
              "    }\n",
              "    20% {\n",
              "      border-color: transparent;\n",
              "      border-left-color: var(--fill-color);\n",
              "      border-top-color: var(--fill-color);\n",
              "    }\n",
              "    30% {\n",
              "      border-color: transparent;\n",
              "      border-left-color: var(--fill-color);\n",
              "      border-top-color: var(--fill-color);\n",
              "      border-right-color: var(--fill-color);\n",
              "    }\n",
              "    40% {\n",
              "      border-color: transparent;\n",
              "      border-right-color: var(--fill-color);\n",
              "      border-top-color: var(--fill-color);\n",
              "    }\n",
              "    60% {\n",
              "      border-color: transparent;\n",
              "      border-right-color: var(--fill-color);\n",
              "    }\n",
              "    80% {\n",
              "      border-color: transparent;\n",
              "      border-right-color: var(--fill-color);\n",
              "      border-bottom-color: var(--fill-color);\n",
              "    }\n",
              "    90% {\n",
              "      border-color: transparent;\n",
              "      border-bottom-color: var(--fill-color);\n",
              "    }\n",
              "  }\n",
              "</style>\n",
              "\n",
              "  <script>\n",
              "    async function quickchart(key) {\n",
              "      const quickchartButtonEl =\n",
              "        document.querySelector('#' + key + ' button');\n",
              "      quickchartButtonEl.disabled = true;  // To prevent multiple clicks.\n",
              "      quickchartButtonEl.classList.add('colab-df-spinner');\n",
              "      try {\n",
              "        const charts = await google.colab.kernel.invokeFunction(\n",
              "            'suggestCharts', [key], {});\n",
              "      } catch (error) {\n",
              "        console.error('Error during call to suggestCharts:', error);\n",
              "      }\n",
              "      quickchartButtonEl.classList.remove('colab-df-spinner');\n",
              "      quickchartButtonEl.classList.add('colab-df-quickchart-complete');\n",
              "    }\n",
              "    (() => {\n",
              "      let quickchartButtonEl =\n",
              "        document.querySelector('#df-1520f9b2-f6e9-4dc0-be68-eab7b5dcb51f button');\n",
              "      quickchartButtonEl.style.display =\n",
              "        google.colab.kernel.accessAllowed ? 'block' : 'none';\n",
              "    })();\n",
              "  </script>\n",
              "</div>\n",
              "\n",
              "    </div>\n",
              "  </div>\n"
            ],
            "application/vnd.google.colaboratory.intrinsic+json": {
              "type": "dataframe",
              "variable_name": "df",
              "summary": "{\n  \"name\": \"df\",\n  \"rows\": 1000,\n  \"fields\": [\n    {\n      \"column\": \"Unnamed: 0\",\n      \"properties\": {\n        \"dtype\": \"number\",\n        \"std\": 288,\n        \"min\": 0,\n        \"max\": 999,\n        \"num_unique_values\": 1000,\n        \"samples\": [\n          521,\n          737,\n          740\n        ],\n        \"semantic_type\": \"\",\n        \"description\": \"\"\n      }\n    },\n    {\n      \"column\": \"name\",\n      \"properties\": {\n        \"dtype\": \"string\",\n        \"num_unique_values\": 988,\n        \"samples\": [\n          \"Men's Allagash Leather Handcrafted Oxfords\",\n          \"GSI Outdoors Adventure Chef Cookset\",\n          \"Aqua-Shield Ski Gloves, Men's\"\n        ],\n        \"semantic_type\": \"\",\n        \"description\": \"\"\n      }\n    },\n    {\n      \"column\": \"description\",\n      \"properties\": {\n        \"dtype\": \"string\",\n        \"num_unique_values\": 996,\n        \"samples\": [\n          \"These casual, mountain-town-style shoes have sneaker-like comfort and performance features. Constructed with a suede-leather upper that resists water, the shoes feature a thick EVA midsole and sock liner for cushioning and comfort that last all day. The sock liner is treated to control odor, and the Vertigrip rubber outsole has subtle lugs for traction on slick surfaces and short hikes. Imported.\",\n          \"Easily convert your LL Bart Hikelite Four-Season Hiking Poles and Komperdell poles for winter hikes, backcountry skiing or snowshoeing with these hiking pole snow baskets to provide added flotation in snow. Specs: Dimensions: 3\\u00bc\\\" dia. Construction: 100% plastic. Additional Features: Interchangeable baskets provide added flotation in snow. Fit all  Hikelite and other poles made by Komperdell. Lightweight plastic baskets won't take much room in your pack or pocket. Imported.\",\n          \"This comfortable, lightweight and well-ventilated child-carrier backpack will transport your little one safely. It's exceptionally easy to get a perfect fit and meets all international safety standards.\\r\\n\\r\\nSpecs\\r\\n- Capacity: 48.5 lb.\\r\\n- Weight: 7.67 lb.\\r\\n- Dimensions: 29\\\"H x 15\\\"W x 17\\\"D.\\r\\n\\r\\nConstruction\\r\\n- Made from 210D nylon shadow box, 400HD nylon packcloth and 420HD nylon packcloth.\\r\\n- Aluminum frame and hinges.\\r\\n\\r\\nAdditional Features\\r\\n- Osprey's unique Anti-Gravity suspension ensures a fast and supercomfortable fit.\\r\\n- Airspeed back panel allows air flow to help keep you cool.\\r\\n- Two large grab handles.\\r\\n- Removable and washable drool pad.\\r\\n- Wide base with locking footbar makes it stable when placed on the ground.\\r\\n- Built-in sunshade.\\r\\n- Adjustable child-seat height with safety leg loops and adjustable/removable stirrups.\\r\\n- Hydration reservoir sleeve in back panel, reservoir sold separately.\\r\\n- Imported.\"\n        ],\n        \"semantic_type\": \"\",\n        \"description\": \"\"\n      }\n    }\n  ]\n}"
            }
          },
          "metadata": {},
          "execution_count": 5
        }
      ]
    },
    {
      "cell_type": "code",
      "source": [
        "data[2]"
      ],
      "metadata": {
        "colab": {
          "base_uri": "https://localhost:8080/"
        },
        "id": "MzrvEyIaXQv-",
        "outputId": "5a563083-0aec-4360-c926-c5c265481cca"
      },
      "execution_count": null,
      "outputs": [
        {
          "output_type": "execute_result",
          "data": {
            "text/plain": [
              "Document(metadata={'source': 'sample.csv', 'row': 2}, page_content=\": 2\\nname: Infant and Toddler Girls' Coastal Chill Swimsuit, Two-Piece\\ndescription: She'll love the bright colors, ruffles and exclusive whimsical prints of this toddler's two-piece swimsuit! Our four-way-stretch and chlorine-resistant fabric keeps its shape and resists snags. The UPF 50+ rated fabric provides the highest rated sun protection possible, blocking 98% of the sun's harmful rays. The crossover no-slip straps and fully lined bottom ensure a secure fit and maximum coverage. Machine wash and line dry for best results. Imported.\")"
            ]
          },
          "metadata": {},
          "execution_count": 6
        }
      ]
    },
    {
      "cell_type": "code",
      "source": [
        "from langchain.indexes import VectorstoreIndexCreator\n"
      ],
      "metadata": {
        "id": "IYuWWGUqXT7F"
      },
      "execution_count": null,
      "outputs": []
    },
    {
      "cell_type": "code",
      "source": [
        "! pip install -qU docarray"
      ],
      "metadata": {
        "colab": {
          "base_uri": "https://localhost:8080/"
        },
        "id": "8CGgWtNlf5Ve",
        "outputId": "77779c30-ae1b-4436-ad2b-6194717f591a"
      },
      "execution_count": null,
      "outputs": [
        {
          "output_type": "stream",
          "name": "stdout",
          "text": [
            "\u001b[?25l   \u001b[90m━━━━━━━━━━━━━━━━━━━━━━━━━━━━━━━━━━━━━━━━\u001b[0m \u001b[32m0.0/270.2 kB\u001b[0m \u001b[31m?\u001b[0m eta \u001b[36m-:--:--\u001b[0m\r\u001b[2K   \u001b[91m━━━━━━━━━━━━━━━━━━━━━━━━━━━━━━━━━━━━━━━\u001b[0m\u001b[90m╺\u001b[0m \u001b[32m266.2/270.2 kB\u001b[0m \u001b[31m14.6 MB/s\u001b[0m eta \u001b[36m0:00:01\u001b[0m\r\u001b[2K   \u001b[90m━━━━━━━━━━━━━━━━━━━━━━━━━━━━━━━━━━━━━━━━\u001b[0m \u001b[32m270.2/270.2 kB\u001b[0m \u001b[31m6.9 MB/s\u001b[0m eta \u001b[36m0:00:00\u001b[0m\n",
            "\u001b[?25h"
          ]
        }
      ]
    },
    {
      "cell_type": "code",
      "source": [
        "from langchain_openai import OpenAIEmbeddings\n",
        "\n",
        "embedding = OpenAIEmbeddings(api_key=os.getenv(\"OPEN_API_KEY\"))\n",
        "index = VectorstoreIndexCreator(\n",
        "    vectorstore_cls=DocArrayInMemorySearch,\n",
        "    embedding = embedding\n",
        ").from_loaders([loader])"
      ],
      "metadata": {
        "colab": {
          "base_uri": "https://localhost:8080/"
        },
        "id": "bkYBnzCCf6z7",
        "outputId": "32eb1fce-cd2e-4ee8-91f1-cb4081495f9a"
      },
      "execution_count": null,
      "outputs": [
        {
          "output_type": "stream",
          "name": "stderr",
          "text": [
            "/usr/local/lib/python3.10/dist-packages/pydantic/_migration.py:283: UserWarning: `pydantic.error_wrappers:ValidationError` has been moved to `pydantic:ValidationError`.\n",
            "  warnings.warn(f'`{import_path}` has been moved to `{new_location}`.')\n"
          ]
        }
      ]
    },
    {
      "cell_type": "code",
      "source": [
        "from langchain_openai import ChatOpenAI\n",
        "llm = ChatOpenAI(api_key=os.getenv(\"OPEN_API_KEY\"),model=\"gpt-4o-mini\")\n",
        "query =\"Please list all your shirts with sun protection \\\n",
        "in a table in markdown and summarize each one.\"\n",
        "\n",
        "response = index.query(query,llm)\n",
        "response"
      ],
      "metadata": {
        "colab": {
          "base_uri": "https://localhost:8080/",
          "height": 227
        },
        "id": "FVUSpHxMhvHR",
        "outputId": "c5a5d899-9f2b-4e3a-f91c-289aa7f0dbae"
      },
      "execution_count": null,
      "outputs": [
        {
          "output_type": "execute_result",
          "data": {
            "text/plain": [
              "\"Here’s a table summarizing the shirts with sun protection:\\n\\n```markdown\\n| Name                                     | Description Summary                                                                                  |\\n|------------------------------------------|-----------------------------------------------------------------------------------------------------|\\n| Men's Tropical Plaid Short-Sleeve Shirt | Lightest hot-weather shirt with UPF 50+ sun protection, 100% polyester, wrinkle-resistant, cape venting, and two front pockets. |\\n| Men's Plaid Tropic Shirt, Short-Sleeve   | Ultracomfortable with UPF 50+ coverage, made of 52% polyester and 48% nylon, wrinkle-free, evaporates perspiration, features cape venting and two front pockets. |\\n| Sun Shield Shirt                         | High-performance sun shirt with UPF 50+ protection, made of 78% nylon and 22% Lycra, quick-drying, abrasion resistant, fits over swimsuits. |\\n| Men's TropicVibe Shirt, Short-Sleeve     | Lightweight sun-protection shirt with UPF 50+, made of 71% nylon and 29% polyester, traditional fit, wrinkle resistant, cape venting, and two front pockets. |\\n```\\n\\nThis table provides a concise summary of each shirt's features and materials related to sun protection.\""
            ],
            "application/vnd.google.colaboratory.intrinsic+json": {
              "type": "string"
            }
          },
          "metadata": {},
          "execution_count": 10
        }
      ]
    },
    {
      "cell_type": "code",
      "source": [
        "display(Markdown(response))"
      ],
      "metadata": {
        "colab": {
          "base_uri": "https://localhost:8080/",
          "height": 200
        },
        "id": "TETa_kZ4iuLR",
        "outputId": "aedba07b-cf13-4df2-905d-4bc8ff22df17"
      },
      "execution_count": null,
      "outputs": [
        {
          "output_type": "display_data",
          "data": {
            "text/plain": [
              "<IPython.core.display.Markdown object>"
            ],
            "text/markdown": "Here’s a table summarizing the shirts with sun protection:\n\n```markdown\n| Name                                     | Description Summary                                                                                  |\n|------------------------------------------|-----------------------------------------------------------------------------------------------------|\n| Men's Tropical Plaid Short-Sleeve Shirt | Lightest hot-weather shirt with UPF 50+ sun protection, 100% polyester, wrinkle-resistant, cape venting, and two front pockets. |\n| Men's Plaid Tropic Shirt, Short-Sleeve   | Ultracomfortable with UPF 50+ coverage, made of 52% polyester and 48% nylon, wrinkle-free, evaporates perspiration, features cape venting and two front pockets. |\n| Sun Shield Shirt                         | High-performance sun shirt with UPF 50+ protection, made of 78% nylon and 22% Lycra, quick-drying, abrasion resistant, fits over swimsuits. |\n| Men's TropicVibe Shirt, Short-Sleeve     | Lightweight sun-protection shirt with UPF 50+, made of 71% nylon and 29% polyester, traditional fit, wrinkle resistant, cape venting, and two front pockets. |\n```\n\nThis table provides a concise summary of each shirt's features and materials related to sun protection."
          },
          "metadata": {}
        }
      ]
    },
    {
      "cell_type": "code",
      "source": [],
      "metadata": {
        "id": "ZJBD-Rl7jOOl"
      },
      "execution_count": null,
      "outputs": []
    },
    {
      "cell_type": "markdown",
      "source": [
        "##Step By Step"
      ],
      "metadata": {
        "id": "JZF5tHEUja3a"
      }
    },
    {
      "cell_type": "code",
      "source": [
        "from langchain.document_loaders import CSVLoader\n",
        "loader = CSVLoader(\"sample.csv\")"
      ],
      "metadata": {
        "id": "BAkc1Ze8jdR2"
      },
      "execution_count": null,
      "outputs": []
    },
    {
      "cell_type": "code",
      "source": [
        "docs = loader.load()\n",
        "docs[0]"
      ],
      "metadata": {
        "colab": {
          "base_uri": "https://localhost:8080/"
        },
        "id": "dMbqrq39jk_G",
        "outputId": "f7a4bdf7-d042-4a89-fed5-280c3ad82b48"
      },
      "execution_count": null,
      "outputs": [
        {
          "output_type": "execute_result",
          "data": {
            "text/plain": [
              "Document(metadata={'source': 'sample.csv', 'row': 0}, page_content=\": 0\\nname: Women's Campside Oxfords\\ndescription: This ultracomfortable lace-to-toe Oxford boasts a super-soft canvas, thick cushioning, and quality construction for a broken-in feel from the first time you put them on. \\r\\n\\r\\nSize & Fit: Order regular shoe size. For half sizes not offered, order up to next whole size. \\r\\n\\r\\nSpecs: Approx. weight: 1 lb.1 oz. per pair. \\r\\n\\r\\nConstruction: Soft canvas material for a broken-in feel and look. Comfortable EVA innersole with Cleansport NXT® antimicrobial odor control. Vintage hunt, fish and camping motif on innersole. Moderate arch contour of innersole. EVA foam midsole for cushioning and support. Chain-tread-inspired molded rubber outsole with modified chain-tread pattern. Imported. \\r\\n\\r\\nQuestions? Please contact us for any inquiries.\")"
            ]
          },
          "metadata": {},
          "execution_count": 13
        }
      ]
    },
    {
      "cell_type": "code",
      "source": [
        "from langchain.embeddings import OpenAIEmbeddings\n",
        "\n",
        "embedding = OpenAIEmbeddings()"
      ],
      "metadata": {
        "colab": {
          "base_uri": "https://localhost:8080/"
        },
        "id": "m3DBRFUijnZS",
        "outputId": "0929c4eb-4389-4c8f-aeb0-4ac969b8672b"
      },
      "execution_count": null,
      "outputs": [
        {
          "output_type": "stream",
          "name": "stderr",
          "text": [
            "<ipython-input-14-faee23ac6bbc>:3: LangChainDeprecationWarning: The class `OpenAIEmbeddings` was deprecated in LangChain 0.0.9 and will be removed in 1.0. An updated version of the class exists in the :class:`~langchain-openai package and should be used instead. To use it run `pip install -U :class:`~langchain-openai` and import as `from :class:`~langchain_openai import OpenAIEmbeddings``.\n",
            "  embedding = OpenAIEmbeddings()\n"
          ]
        }
      ]
    },
    {
      "cell_type": "code",
      "source": [
        "embed = embedding.embed_query(\"Hi My name is manideep\")\n",
        "type(embed)"
      ],
      "metadata": {
        "colab": {
          "base_uri": "https://localhost:8080/"
        },
        "id": "ptGq_P50kLp0",
        "outputId": "c08c27dd-b0d5-4896-be67-418cefecdcf7"
      },
      "execution_count": null,
      "outputs": [
        {
          "output_type": "execute_result",
          "data": {
            "text/plain": [
              "list"
            ]
          },
          "metadata": {},
          "execution_count": 15
        }
      ]
    },
    {
      "cell_type": "code",
      "source": [
        "len(embed)"
      ],
      "metadata": {
        "colab": {
          "base_uri": "https://localhost:8080/"
        },
        "id": "Fvvc6W3gkX-G",
        "outputId": "8be7581f-0974-451f-bae7-a41cd49c62f8"
      },
      "execution_count": null,
      "outputs": [
        {
          "output_type": "execute_result",
          "data": {
            "text/plain": [
              "1536"
            ]
          },
          "metadata": {},
          "execution_count": 16
        }
      ]
    },
    {
      "cell_type": "code",
      "source": [
        "embed[:5]"
      ],
      "metadata": {
        "colab": {
          "base_uri": "https://localhost:8080/"
        },
        "id": "Rd6yhniNk9QI",
        "outputId": "58d8c8fc-47a8-4903-a076-fcfd6f2ad147"
      },
      "execution_count": null,
      "outputs": [
        {
          "output_type": "execute_result",
          "data": {
            "text/plain": [
              "[-0.01363674469918798,\n",
              " 0.004290360235845086,\n",
              " -0.013498133174707045,\n",
              " -0.024950094895663383,\n",
              " -0.017689485910533445]"
            ]
          },
          "metadata": {},
          "execution_count": 17
        }
      ]
    },
    {
      "cell_type": "code",
      "source": [
        "db = DocArrayInMemorySearch.from_documents(\n",
        "    docs,\n",
        "    embedding\n",
        ")"
      ],
      "metadata": {
        "id": "WCyrzwIpk_JG"
      },
      "execution_count": null,
      "outputs": []
    },
    {
      "cell_type": "code",
      "source": [
        "query = \"Please suggest a shirt with sunblocking\""
      ],
      "metadata": {
        "id": "_5XDuW2LlNd_"
      },
      "execution_count": null,
      "outputs": []
    },
    {
      "cell_type": "code",
      "source": [
        "docs = db.similarity_search(query)\n",
        "len(docs)"
      ],
      "metadata": {
        "colab": {
          "base_uri": "https://localhost:8080/"
        },
        "id": "VqCm3v_zlSOS",
        "outputId": "63213aa5-96ce-4df6-91cb-c9df984d4e60"
      },
      "execution_count": null,
      "outputs": [
        {
          "output_type": "execute_result",
          "data": {
            "text/plain": [
              "4"
            ]
          },
          "metadata": {},
          "execution_count": 20
        }
      ]
    },
    {
      "cell_type": "code",
      "source": [
        "docs[0]"
      ],
      "metadata": {
        "colab": {
          "base_uri": "https://localhost:8080/"
        },
        "id": "swONUXm6lVnB",
        "outputId": "2c245db2-f896-476a-e258-37c798155611"
      },
      "execution_count": null,
      "outputs": [
        {
          "output_type": "execute_result",
          "data": {
            "text/plain": [
              "Document(metadata={'source': 'sample.csv', 'row': 255}, page_content=': 255\\nname: Sun Shield Shirt by\\ndescription: \"Block the sun, not the fun – our high-performance sun shirt is guaranteed to protect from harmful UV rays. \\r\\n\\r\\nSize & Fit: Slightly Fitted: Softly shapes the body. Falls at hip.\\r\\n\\r\\nFabric & Care: 78% nylon, 22% Lycra Xtra Life fiber. UPF 50+ rated – the highest rated sun protection possible. Handwash, line dry.\\r\\n\\r\\nAdditional Features: Wicks moisture for quick-drying comfort. Fits comfortably over your favorite swimsuit. Abrasion resistant for season after season of wear. Imported.\\r\\n\\r\\nSun Protection That Won\\'t Wear Off\\r\\nOur high-performance fabric provides SPF 50+ sun protection, blocking 98% of the sun\\'s harmful rays. This fabric is recommended by The Skin Cancer Foundation as an effective UV protectant.')"
            ]
          },
          "metadata": {},
          "execution_count": 21
        }
      ]
    },
    {
      "cell_type": "code",
      "source": [
        "retriever = db.as_retriever()\n",
        "llm = ChatOpenAI(temperature=0.0,model='gpt-4o-mini')"
      ],
      "metadata": {
        "id": "kDGCYLzylawQ"
      },
      "execution_count": null,
      "outputs": []
    },
    {
      "cell_type": "code",
      "source": [],
      "metadata": {
        "id": "uyZngRj3l5w3"
      },
      "execution_count": null,
      "outputs": []
    },
    {
      "cell_type": "code",
      "source": [
        "q_docs = \"\".join([doc.page_content for doc in docs])\n",
        "q_docs"
      ],
      "metadata": {
        "colab": {
          "base_uri": "https://localhost:8080/",
          "height": 227
        },
        "id": "9RUh1bEtlvMJ",
        "outputId": "b8cd1c87-1262-4c1b-d318-2af2ce4001f7"
      },
      "execution_count": null,
      "outputs": [
        {
          "output_type": "execute_result",
          "data": {
            "text/plain": [
              "': 255\\nname: Sun Shield Shirt by\\ndescription: \"Block the sun, not the fun – our high-performance sun shirt is guaranteed to protect from harmful UV rays. \\r\\n\\r\\nSize & Fit: Slightly Fitted: Softly shapes the body. Falls at hip.\\r\\n\\r\\nFabric & Care: 78% nylon, 22% Lycra Xtra Life fiber. UPF 50+ rated – the highest rated sun protection possible. Handwash, line dry.\\r\\n\\r\\nAdditional Features: Wicks moisture for quick-drying comfort. Fits comfortably over your favorite swimsuit. Abrasion resistant for season after season of wear. Imported.\\r\\n\\r\\nSun Protection That Won\\'t Wear Off\\r\\nOur high-performance fabric provides SPF 50+ sun protection, blocking 98% of the sun\\'s harmful rays. This fabric is recommended by The Skin Cancer Foundation as an effective UV protectant.: 374\\nname: Men\\'s Plaid Tropic Shirt, Short-Sleeve\\ndescription: Our Ultracomfortable sun protection is rated to UPF 50+, helping you stay cool and dry. Originally designed for fishing, this lightest hot-weather shirt offers UPF 50+ coverage and is great for extended travel. SunSmart technology blocks 98% of the sun\\'s harmful UV rays, while the high-performance fabric is wrinkle-free and quickly evaporates perspiration. Made with 52% polyester and 48% nylon, this shirt is machine washable and dryable. Additional features include front and back cape venting, two front bellows pockets and an imported design. With UPF 50+ coverage, you can limit sun exposure and feel secure with the highest rated sun protection available.: 535\\nname: Men\\'s TropicVibe Shirt, Short-Sleeve\\ndescription: This Men’s sun-protection shirt with built-in UPF 50+ has the lightweight feel you want and the coverage you need when the air is hot and the UV rays are strong. Size & Fit: Traditional Fit: Relaxed through the chest, sleeve and waist. Fabric & Care: Shell: 71% Nylon, 29% Polyester. Lining: 100% Polyester knit mesh. UPF 50+ rated – the highest rated sun protection possible. Machine wash and dry. Additional Features: Wrinkle resistant. Front and back cape venting lets in cool breezes. Two front bellows pockets. Imported.\\r\\n\\r\\nSun Protection That Won\\'t Wear Off: Our high-performance fabric provides SPF 50+ sun protection, blocking 98% of the sun\\'s harmful rays.: 618\\nname: Men\\'s Tropical Plaid Short-Sleeve Shirt\\ndescription: Our lightest hot-weather shirt is rated UPF 50+ for superior protection from the sun\\'s UV rays. With a traditional fit that is relaxed through the chest, sleeve, and waist, this fabric is made of 100% polyester and is wrinkle-resistant. With front and back cape venting that lets in cool breezes and two front bellows pockets, this shirt is imported and provides the highest rated sun protection possible. \\r\\n\\r\\nSun Protection That Won\\'t Wear Off. Our high-performance fabric provides SPF 50+ sun protection, blocking 98% of the sun\\'s harmful rays.'"
            ],
            "application/vnd.google.colaboratory.intrinsic+json": {
              "type": "string"
            }
          },
          "metadata": {},
          "execution_count": 23
        }
      ]
    },
    {
      "cell_type": "code",
      "source": [
        "docs[1]"
      ],
      "metadata": {
        "colab": {
          "base_uri": "https://localhost:8080/"
        },
        "id": "oNUcdtIwmEIW",
        "outputId": "ed84271a-43f3-4efd-8174-f75606b96363"
      },
      "execution_count": null,
      "outputs": [
        {
          "output_type": "execute_result",
          "data": {
            "text/plain": [
              "Document(metadata={'source': 'sample.csv', 'row': 374}, page_content=\": 374\\nname: Men's Plaid Tropic Shirt, Short-Sleeve\\ndescription: Our Ultracomfortable sun protection is rated to UPF 50+, helping you stay cool and dry. Originally designed for fishing, this lightest hot-weather shirt offers UPF 50+ coverage and is great for extended travel. SunSmart technology blocks 98% of the sun's harmful UV rays, while the high-performance fabric is wrinkle-free and quickly evaporates perspiration. Made with 52% polyester and 48% nylon, this shirt is machine washable and dryable. Additional features include front and back cape venting, two front bellows pockets and an imported design. With UPF 50+ coverage, you can limit sun exposure and feel secure with the highest rated sun protection available.\")"
            ]
          },
          "metadata": {},
          "execution_count": 24
        }
      ]
    },
    {
      "cell_type": "code",
      "source": [
        "response = llm(f\"{q_docs}  Question: Please list all your \\\n",
        "shirts with sun protection in a table in markdown and summarize each one.\")"
      ],
      "metadata": {
        "colab": {
          "base_uri": "https://localhost:8080/"
        },
        "id": "THXXNBK2mJx8",
        "outputId": "7d06a657-3d60-469c-8eaa-705861e38db0"
      },
      "execution_count": null,
      "outputs": [
        {
          "output_type": "stream",
          "name": "stderr",
          "text": [
            "<ipython-input-25-e2bacb6f1481>:1: LangChainDeprecationWarning: The method `BaseChatModel.__call__` was deprecated in langchain-core 0.1.7 and will be removed in 1.0. Use :meth:`~invoke` instead.\n",
            "  response = llm(f\"{q_docs}  Question: Please list all your \\\n"
          ]
        }
      ]
    },
    {
      "cell_type": "code",
      "source": [
        "display(Markdown(response.content))"
      ],
      "metadata": {
        "colab": {
          "base_uri": "https://localhost:8080/",
          "height": 372
        },
        "id": "DVyoM_7kmoRV",
        "outputId": "ef3f1c5a-dd23-4ad2-c4a2-3b4a6f13bbec"
      },
      "execution_count": null,
      "outputs": [
        {
          "output_type": "display_data",
          "data": {
            "text/plain": [
              "<IPython.core.display.Markdown object>"
            ],
            "text/markdown": "Here's a markdown table summarizing the shirts with sun protection:\n\n| Name                                   | Description Summary                                                                                                                                                                                                                     |\n|----------------------------------------|-------------------------------------------------------------------------------------------------------------------------------------------------------------------------------------------------------------------------------------------|\n| Sun Shield Shirt                       | High-performance sun shirt with UPF 50+ protection, blocking 98% of UV rays. Slightly fitted, made of 78% nylon and 22% Lycra Xtra Life fiber. Moisture-wicking, abrasion-resistant, and comfortable over swimsuits. Handwash recommended. |\n| Men's Plaid Tropic Shirt, Short-Sleeve| Lightweight, UPF 50+ rated shirt designed for fishing and hot weather. Made of 52% polyester and 48% nylon, it features front and back cape venting, two bellows pockets, and is machine washable. Blocks 98% of harmful UV rays.          |\n| Men's TropicVibe Shirt, Short-Sleeve  | Lightweight sun-protection shirt with UPF 50+ rating. Traditional fit, made of 71% nylon and 29% polyester. Features front and back cape venting, two bellows pockets, and is wrinkle-resistant. Machine washable.                          |\n| Men's Tropical Plaid Short-Sleeve Shirt| Light hot-weather shirt with UPF 50+ protection, made of 100% polyester. Traditional fit, wrinkle-resistant, with front and back cape venting and two bellows pockets. Blocks 98% of harmful UV rays.                                      |\n\nThis table provides a concise overview of each shirt's features and sun protection capabilities."
          },
          "metadata": {}
        }
      ]
    },
    {
      "cell_type": "code",
      "source": [
        "qa_stuff = RetrievalQA.from_chain_type(\n",
        "    llm=llm,\n",
        "    chain_type=\"stuff\",\n",
        "    retriever=retriever,\n",
        "    verbose=False\n",
        ")"
      ],
      "metadata": {
        "id": "ixR1Jz8um5vq"
      },
      "execution_count": null,
      "outputs": []
    },
    {
      "cell_type": "code",
      "source": [
        "query =  \"Please list all your shirts with sun protection in a table \\\n",
        "in markdown and summarize each one.\""
      ],
      "metadata": {
        "id": "1Vmb9qugn1nh"
      },
      "execution_count": null,
      "outputs": []
    },
    {
      "cell_type": "code",
      "source": [
        "response = qa_stuff.run(query)\n",
        "response"
      ],
      "metadata": {
        "colab": {
          "base_uri": "https://localhost:8080/",
          "height": 351
        },
        "id": "O2QEG-6Cn2ZC",
        "outputId": "d1f006c0-955f-4cd6-8dcf-2f3456db49d3"
      },
      "execution_count": null,
      "outputs": [
        {
          "output_type": "stream",
          "name": "stderr",
          "text": [
            "<ipython-input-29-1203358a1681>:1: LangChainDeprecationWarning: The method `Chain.run` was deprecated in langchain 0.1.0 and will be removed in 1.0. Use :meth:`~invoke` instead.\n",
            "  response = qa_stuff.run(query)\n"
          ]
        },
        {
          "output_type": "stream",
          "name": "stdout",
          "text": [
            "\n",
            "\n",
            "\u001b[1m> Entering new RetrievalQA chain...\u001b[0m\n",
            "\n",
            "\u001b[1m> Finished chain.\u001b[0m\n"
          ]
        },
        {
          "output_type": "execute_result",
          "data": {
            "text/plain": [
              "\"Here is a table summarizing the shirts with sun protection:\\n\\n| Name                                      | Description Summary                                                                                      |\\n|-------------------------------------------|---------------------------------------------------------------------------------------------------------|\\n| Men's Tropical Plaid Short-Sleeve Shirt   | Lightweight, UPF 50+ sun protection, 100% polyester, wrinkle-resistant, with cape venting and bellows pockets. |\\n| Men's Plaid Tropic Shirt, Short-Sleeve    | Designed for fishing, UPF 50+ coverage, made of 52% polyester and 48% nylon, moisture-wicking, with cape venting and bellows pockets. |\\n| Sun Shield Shirt                          | High-performance sun shirt, UPF 50+ rated, made of 78% nylon and 22% Lycra, moisture-wicking, abrasion resistant, recommended by The Skin Cancer Foundation. |\\n| Men's TropicVibe Shirt, Short-Sleeve     | Lightweight sun-protection shirt, UPF 50+ rated, made of 71% nylon and 29% polyester, wrinkle resistant, with cape venting and bellows pockets. |\""
            ],
            "application/vnd.google.colaboratory.intrinsic+json": {
              "type": "string"
            }
          },
          "metadata": {},
          "execution_count": 29
        }
      ]
    },
    {
      "cell_type": "code",
      "source": [
        "display(Markdown(response))"
      ],
      "metadata": {
        "colab": {
          "base_uri": "https://localhost:8080/",
          "height": 291
        },
        "id": "WaH6sMZMn7Hv",
        "outputId": "ff6d8d47-00a1-4698-dd33-e30b1610509c"
      },
      "execution_count": null,
      "outputs": [
        {
          "output_type": "display_data",
          "data": {
            "text/plain": [
              "<IPython.core.display.Markdown object>"
            ],
            "text/markdown": "Here is a table summarizing the shirts with sun protection:\n\n| Name                                      | Description Summary                                                                                      |\n|-------------------------------------------|---------------------------------------------------------------------------------------------------------|\n| Men's Tropical Plaid Short-Sleeve Shirt   | Lightweight, UPF 50+ sun protection, 100% polyester, wrinkle-resistant, with cape venting and bellows pockets. |\n| Men's Plaid Tropic Shirt, Short-Sleeve    | Designed for fishing, UPF 50+ coverage, made of 52% polyester and 48% nylon, moisture-wicking, with cape venting and bellows pockets. |\n| Sun Shield Shirt                          | High-performance sun shirt, UPF 50+ rated, made of 78% nylon and 22% Lycra, moisture-wicking, abrasion resistant, recommended by The Skin Cancer Foundation. |\n| Men's TropicVibe Shirt, Short-Sleeve     | Lightweight sun-protection shirt, UPF 50+ rated, made of 71% nylon and 29% polyester, wrinkle resistant, with cape venting and bellows pockets. |"
          },
          "metadata": {}
        }
      ]
    },
    {
      "cell_type": "code",
      "source": [
        "index = VectorstoreIndexCreator(\n",
        "    vectorstore_cls = DocArrayInMemorySearch,\n",
        "    embedding= embedding\n",
        ").from_loaders([loader])\n",
        "\n",
        "\n",
        "\n"
      ],
      "metadata": {
        "id": "TpW-JyxZoBco"
      },
      "execution_count": null,
      "outputs": []
    },
    {
      "cell_type": "code",
      "source": [
        "display(Markdown(index.query(query,llm)))"
      ],
      "metadata": {
        "colab": {
          "base_uri": "https://localhost:8080/",
          "height": 273
        },
        "id": "SdWOS6BnocAi",
        "outputId": "e53d984a-e939-4d59-bdc7-96895016025c"
      },
      "execution_count": null,
      "outputs": [
        {
          "output_type": "display_data",
          "data": {
            "text/plain": [
              "<IPython.core.display.Markdown object>"
            ],
            "text/markdown": "Here is a table summarizing the shirts with sun protection:\n\n| Name                                      | Description Summary                                                                                     |\n|-------------------------------------------|--------------------------------------------------------------------------------------------------------|\n| Men's Tropical Plaid Short-Sleeve Shirt   | Lightweight, UPF 50+ sun protection, 100% polyester, wrinkle-resistant, with cape venting and pockets. |\n| Men's Plaid Tropic Shirt, Short-Sleeve    | UPF 50+ rated, designed for fishing, made of 52% polyester and 48% nylon, moisture-wicking, with cape venting and pockets. |\n| Sun Shield Shirt                          | UPF 50+ rated, made of 78% nylon and 22% Lycra, moisture-wicking, abrasion resistant, fits over swimsuits. |\n| Men's TropicVibe Shirt, Short-Sleeve     | Lightweight, UPF 50+ rated, made of 71% nylon and 29% polyester, wrinkle resistant, with cape venting and pockets. |"
          },
          "metadata": {}
        }
      ]
    },
    {
      "cell_type": "code",
      "source": [
        "qa = RetrievalQA.from_chain_type(\n",
        "    llm = llm,\n",
        "    retriever=index.vectorstore.as_retriever(),\n",
        "    verbose=True,\n",
        "        chain_type_kwargs = {\n",
        "        \"document_separator\": \"<<<<>>>>>\"\n",
        "    }\n",
        ")"
      ],
      "metadata": {
        "id": "ID8KKSCio04K"
      },
      "execution_count": null,
      "outputs": []
    },
    {
      "cell_type": "code",
      "source": [
        "data[10]"
      ],
      "metadata": {
        "colab": {
          "base_uri": "https://localhost:8080/"
        },
        "id": "Oac-EGPHj7xd",
        "outputId": "c8f4fcfe-63e0-4863-ef48-a0e5d0c14cc6"
      },
      "execution_count": null,
      "outputs": [
        {
          "output_type": "execute_result",
          "data": {
            "text/plain": [
              "Document(metadata={'source': 'sample.csv', 'row': 10}, page_content=\": 10\\nname: Cozy Comfort Pullover Set, Stripe\\ndescription: Perfect for lounging, this striped knit set lives up to its name. We used ultrasoft fabric and an easy design that's as comfortable at bedtime as it is when we have to make a quick run out.\\r\\n\\r\\nSize & Fit\\r\\n- Pants are Favorite Fit: Sits lower on the waist.\\r\\n- Relaxed Fit: Our most generous fit sits farthest from the body.\\r\\n\\r\\nFabric & Care\\r\\n- In the softest blend of 63% polyester, 35% rayon and 2% spandex.\\r\\n\\r\\nAdditional Features\\r\\n- Relaxed fit top with raglan sleeves and rounded hem.\\r\\n- Pull-on pants have a wide elastic waistband and drawstring, side pockets and a modern slim leg.\\r\\n\\r\\nImported.\")"
            ]
          },
          "metadata": {},
          "execution_count": 35
        }
      ]
    },
    {
      "cell_type": "code",
      "source": [
        "data[11]"
      ],
      "metadata": {
        "colab": {
          "base_uri": "https://localhost:8080/"
        },
        "id": "LBH2yuxCkBdK",
        "outputId": "062aad83-69eb-481c-a99d-799ae0f6f83e"
      },
      "execution_count": null,
      "outputs": [
        {
          "output_type": "execute_result",
          "data": {
            "text/plain": [
              "Document(metadata={'source': 'sample.csv', 'row': 11}, page_content=': 11\\nname: Ultra-Lofty 850 Stretch Down Hooded Jacket\\ndescription: This technical stretch down jacket from our DownTek collection is sure to keep you warm and comfortable with its full-stretch construction providing exceptional range of motion. With a slightly fitted style that falls at the hip and best with a midweight layer, this jacket is suitable for light activity up to 20° and moderate activity up to -30°. The soft and durable 100% polyester shell offers complete windproof protection and is insulated with warm, lofty goose down. Other features include welded baffles for a no-stitch construction and excellent stretch, an adjustable hood, an interior media port and mesh stash pocket and a hem drawcord. Machine wash and dry. Imported.')"
            ]
          },
          "metadata": {},
          "execution_count": 36
        }
      ]
    },
    {
      "cell_type": "code",
      "source": [
        "examples = [\n",
        "    {'qa_pairs':\n",
        "        {\"query\": \"Do the Cozy Comfort Pullover Set\\\n",
        "        have side pockets?\",\n",
        "        \"answer\": \"Yes\"\n",
        "        }\n",
        "    },\n",
        "    {'qa_pairs':\n",
        "         {\"query\": \"What collection is the Ultra-Lofty \\\n",
        "        850 Stretch Down Hooded Jacket from?\",\n",
        "        \"answer\": \"The DownTek collection\"\n",
        "         }\n",
        "    }\n",
        "]"
      ],
      "metadata": {
        "id": "sL5nZhPWkCwh"
      },
      "execution_count": null,
      "outputs": []
    },
    {
      "cell_type": "code",
      "source": [],
      "metadata": {
        "id": "lvfVYWu8opDH"
      },
      "execution_count": null,
      "outputs": []
    },
    {
      "cell_type": "code",
      "source": [
        "from langchain.evaluation.qa import QAGenerateChain"
      ],
      "metadata": {
        "id": "kHiylOogkFf8"
      },
      "execution_count": null,
      "outputs": []
    },
    {
      "cell_type": "code",
      "source": [],
      "metadata": {
        "id": "E7K2S7deo0e0"
      },
      "execution_count": null,
      "outputs": []
    },
    {
      "cell_type": "code",
      "source": [
        "example_gen_chain = QAGenerateChain.from_llm(llm)"
      ],
      "metadata": {
        "id": "zS5-G0H-kOMM"
      },
      "execution_count": null,
      "outputs": []
    },
    {
      "cell_type": "code",
      "source": [
        "new_examples = example_gen_chain.apply_and_parse(\n",
        "    [{\"doc\": t} for t in data[:5]]\n",
        ")"
      ],
      "metadata": {
        "colab": {
          "base_uri": "https://localhost:8080/"
        },
        "id": "86FnYS0UkqiZ",
        "outputId": "d6dfc836-453e-4a11-a9fb-a3cd1c35cb91"
      },
      "execution_count": null,
      "outputs": [
        {
          "output_type": "stream",
          "name": "stderr",
          "text": [
            "/usr/local/lib/python3.10/dist-packages/langchain/chains/llm.py:369: UserWarning: The apply_and_parse method is deprecated, instead pass an output parser directly to LLMChain.\n",
            "  warnings.warn(\n"
          ]
        }
      ]
    },
    {
      "cell_type": "code",
      "source": [
        "new_examples"
      ],
      "metadata": {
        "colab": {
          "base_uri": "https://localhost:8080/"
        },
        "id": "iZg_5IPqlDdn",
        "outputId": "ed0eb969-3f19-4893-beac-5667e792b849"
      },
      "execution_count": null,
      "outputs": [
        {
          "output_type": "execute_result",
          "data": {
            "text/plain": [
              "[{'qa_pairs': {'query': \"What are the key features and specifications of the Women's Campside Oxfords as described in the document?\",\n",
              "   'answer': \"The Women's Campside Oxfords are designed for comfort and quality, featuring a super-soft canvas material that provides a broken-in feel from the first wear. They have thick cushioning, an EVA innersole with Cleansport NXT® antimicrobial odor control, and a vintage hunt, fish, and camping motif on the innersole. The shoes have a moderate arch contour and an EVA foam midsole for additional cushioning and support. The outsole is made of molded rubber with a modified chain-tread pattern. The approximate weight of the shoes is 1 lb. 1 oz. per pair, and it is recommended to order the regular shoe size, or the next whole size for half sizes not offered.\"}},\n",
              " {'qa_pairs': {'query': 'What are the dimensions of the small and medium sizes of the Recycled Waterhog Dog Mat, and what materials are used in its construction?',\n",
              "   'answer': 'The small size of the Recycled Waterhog Dog Mat measures 18\" x 28\", while the medium size measures 22.5\" x 34.5\". The mat is constructed from 24 oz. polyester fabric made from 94% recycled materials and features a rubber backing.'}},\n",
              " {'qa_pairs': {'query': \"What are the key features of the Infant and Toddler Girls' Coastal Chill Swimsuit, and how do they contribute to the swimsuit's functionality and safety?\",\n",
              "   'answer': \"The Infant and Toddler Girls' Coastal Chill Swimsuit features bright colors, ruffles, and exclusive whimsical prints, making it visually appealing for toddlers. It is made from four-way-stretch and chlorine-resistant fabric, which helps maintain its shape and resist snags. The swimsuit also has a UPF 50+ rating, providing the highest level of sun protection by blocking 98% of harmful rays. Additionally, the crossover no-slip straps and fully lined bottom ensure a secure fit and maximum coverage. For maintenance, it is recommended to machine wash and line dry the swimsuit for best results.\"}},\n",
              " {'qa_pairs': {'query': 'What are the key features and benefits of the Refresh Swimwear V-Neck Tankini, and how does its fabric contribute to both comfort and environmental sustainability?',\n",
              "   'answer': \"The Refresh Swimwear V-Neck Tankini is designed for comfort and functionality, making it suitable for activities like swimming and stand-up paddleboarding (SUP). Key features include a fitted design that sits close to the body, lightweight racerback straps for ease of wear, and a flattering V-neck silhouette. The tankini is made from a premium Italian-blend fabric that consists of 82% recycled nylon and 18% Lycra® spandex, providing breathability, quick drying, and abrasion resistance. Additionally, it is UPF 50+ rated, offering the highest level of sun protection. The use of recycled materials in its construction highlights its environmental sustainability, making it a good choice for eco-conscious consumers. Care instructions recommend handwashing and line drying to maintain the fabric's quality.\"}},\n",
              " {'qa_pairs': {'query': \"What are the key features of the EcoFlex 3L Storm Pants, and how do they enhance the pants' performance for outdoor activities?\",\n",
              "   'answer': 'The EcoFlex 3L Storm Pants are designed with several key features that enhance their performance for outdoor activities. They utilize state-of-the-art TEK O2 technology, which provides the most breathability tested, ensuring comfort and dryness during various activities and weather conditions. The pants have a three-layer shell that delivers waterproof protection, making them suitable for all seasons. Additional features include weather-blocking interior gaiters that keep out rain and snow, full side zips for easy on and off over boots, and multiple pockets (two zippered hand pockets and a thigh pocket) for convenience. These features make the pants ideal for outdoor enthusiasts, including their use as ski pants.'}}]"
            ]
          },
          "metadata": {},
          "execution_count": 79
        }
      ]
    },
    {
      "cell_type": "code",
      "source": [
        "data[0]"
      ],
      "metadata": {
        "colab": {
          "base_uri": "https://localhost:8080/"
        },
        "id": "tdUHTyrmlHzy",
        "outputId": "a76ebebe-1724-43d8-eab9-13232d4e6d86"
      },
      "execution_count": null,
      "outputs": [
        {
          "output_type": "execute_result",
          "data": {
            "text/plain": [
              "Document(metadata={'source': 'sample.csv', 'row': 0}, page_content=\": 0\\nname: Women's Campside Oxfords\\ndescription: This ultracomfortable lace-to-toe Oxford boasts a super-soft canvas, thick cushioning, and quality construction for a broken-in feel from the first time you put them on. \\r\\n\\r\\nSize & Fit: Order regular shoe size. For half sizes not offered, order up to next whole size. \\r\\n\\r\\nSpecs: Approx. weight: 1 lb.1 oz. per pair. \\r\\n\\r\\nConstruction: Soft canvas material for a broken-in feel and look. Comfortable EVA innersole with Cleansport NXT® antimicrobial odor control. Vintage hunt, fish and camping motif on innersole. Moderate arch contour of innersole. EVA foam midsole for cushioning and support. Chain-tread-inspired molded rubber outsole with modified chain-tread pattern. Imported. \\r\\n\\r\\nQuestions? Please contact us for any inquiries.\")"
            ]
          },
          "metadata": {},
          "execution_count": 80
        }
      ]
    },
    {
      "cell_type": "code",
      "source": [
        "new_examples"
      ],
      "metadata": {
        "colab": {
          "base_uri": "https://localhost:8080/"
        },
        "id": "osr2kNI5lOA5",
        "outputId": "b9a4a39e-e5a5-42cb-a8f9-f1d0b6b82275"
      },
      "execution_count": null,
      "outputs": [
        {
          "output_type": "execute_result",
          "data": {
            "text/plain": [
              "[{'qa_pairs': {'query': \"What are the key features and specifications of the Women's Campside Oxfords as described in the document?\",\n",
              "   'answer': \"The Women's Campside Oxfords are designed for comfort and quality, featuring a super-soft canvas material that provides a broken-in feel from the first wear. They have thick cushioning, an EVA innersole with Cleansport NXT® antimicrobial odor control, and a vintage hunt, fish, and camping motif on the innersole. The shoes have a moderate arch contour and an EVA foam midsole for additional cushioning and support. The outsole is made of molded rubber with a modified chain-tread pattern. The approximate weight of the shoes is 1 lb. 1 oz. per pair, and it is recommended to order the regular shoe size, or the next whole size for half sizes not offered.\"}},\n",
              " {'qa_pairs': {'query': 'What are the dimensions of the small and medium sizes of the Recycled Waterhog Dog Mat, and what materials are used in its construction?',\n",
              "   'answer': 'The small size of the Recycled Waterhog Dog Mat measures 18\" x 28\", while the medium size measures 22.5\" x 34.5\". The mat is constructed from 24 oz. polyester fabric made from 94% recycled materials and features a rubber backing.'}},\n",
              " {'qa_pairs': {'query': \"What are the key features of the Infant and Toddler Girls' Coastal Chill Swimsuit, and how do they contribute to the swimsuit's functionality and safety?\",\n",
              "   'answer': \"The Infant and Toddler Girls' Coastal Chill Swimsuit features bright colors, ruffles, and exclusive whimsical prints, making it visually appealing for toddlers. It is made from four-way-stretch and chlorine-resistant fabric, which helps maintain its shape and resist snags. The swimsuit also has a UPF 50+ rating, providing the highest level of sun protection by blocking 98% of harmful rays. Additionally, the crossover no-slip straps and fully lined bottom ensure a secure fit and maximum coverage. For maintenance, it is recommended to machine wash and line dry the swimsuit for best results.\"}},\n",
              " {'qa_pairs': {'query': 'What are the key features and benefits of the Refresh Swimwear V-Neck Tankini, and how does its fabric contribute to both comfort and environmental sustainability?',\n",
              "   'answer': \"The Refresh Swimwear V-Neck Tankini is designed for comfort and functionality, making it suitable for activities like swimming and stand-up paddleboarding (SUP). Key features include a fitted design that sits close to the body, lightweight racerback straps for ease of wear, and a flattering V-neck silhouette. The tankini is made from a premium Italian-blend fabric that consists of 82% recycled nylon and 18% Lycra® spandex, providing breathability, quick drying, and abrasion resistance. Additionally, it is UPF 50+ rated, offering the highest level of sun protection. The use of recycled materials in its construction highlights its environmental sustainability, making it a good choice for eco-conscious consumers. Care instructions recommend handwashing and line drying to maintain the fabric's quality.\"}},\n",
              " {'qa_pairs': {'query': \"What are the key features of the EcoFlex 3L Storm Pants, and how do they enhance the pants' performance for outdoor activities?\",\n",
              "   'answer': 'The EcoFlex 3L Storm Pants are designed with several key features that enhance their performance for outdoor activities. They utilize state-of-the-art TEK O2 technology, which provides the most breathability tested, ensuring comfort and dryness during various activities and weather conditions. The pants have a three-layer shell that delivers waterproof protection, making them suitable for all seasons. Additional features include weather-blocking interior gaiters that keep out rain and snow, full side zips for easy on and off over boots, and multiple pockets (two zippered hand pockets and a thigh pocket) for convenience. These features make the pants ideal for outdoor enthusiasts, including their use as ski pants.'}}]"
            ]
          },
          "metadata": {},
          "execution_count": 81
        }
      ]
    },
    {
      "cell_type": "code",
      "source": [
        "examples +=new_examples"
      ],
      "metadata": {
        "id": "KLPdYAY7lSNL"
      },
      "execution_count": null,
      "outputs": []
    },
    {
      "cell_type": "code",
      "source": [
        "examples"
      ],
      "metadata": {
        "colab": {
          "base_uri": "https://localhost:8080/"
        },
        "id": "BqCDNLbDlboe",
        "outputId": "ad4277f0-de8b-49fc-c6f6-09021ebb9328"
      },
      "execution_count": null,
      "outputs": [
        {
          "output_type": "execute_result",
          "data": {
            "text/plain": [
              "[{'qa_pairs': {'query': 'Do the Cozy Comfort Pullover Set        have side pockets?',\n",
              "   'answer': 'Yes'}},\n",
              " {'qa_pairs': {'query': 'What collection is the Ultra-Lofty         850 Stretch Down Hooded Jacket from?',\n",
              "   'answer': 'The DownTek collection'}},\n",
              " {'qa_pairs': {'query': \"What are the key features and specifications of the Women's Campside Oxfords as described in the document?\",\n",
              "   'answer': \"The Women's Campside Oxfords are designed for comfort and quality, featuring a super-soft canvas material that provides a broken-in feel from the first wear. They have thick cushioning, an EVA innersole with Cleansport NXT® antimicrobial odor control, and a vintage hunt, fish, and camping motif on the innersole. The shoes have a moderate arch contour and an EVA foam midsole for additional cushioning and support. The outsole is made of molded rubber with a modified chain-tread pattern. The approximate weight of the shoes is 1 lb. 1 oz. per pair, and it is recommended to order the regular shoe size, or the next whole size for half sizes not offered.\"}},\n",
              " {'qa_pairs': {'query': 'What are the dimensions of the small and medium sizes of the Recycled Waterhog Dog Mat, and what materials are used in its construction?',\n",
              "   'answer': 'The small size of the Recycled Waterhog Dog Mat measures 18\" x 28\", while the medium size measures 22.5\" x 34.5\". The mat is constructed from 24 oz. polyester fabric made from 94% recycled materials and features a rubber backing.'}},\n",
              " {'qa_pairs': {'query': \"What are the key features of the Infant and Toddler Girls' Coastal Chill Swimsuit, and how do they contribute to the swimsuit's functionality and safety?\",\n",
              "   'answer': \"The Infant and Toddler Girls' Coastal Chill Swimsuit features bright colors, ruffles, and exclusive whimsical prints, making it visually appealing for toddlers. It is made from four-way-stretch and chlorine-resistant fabric, which helps maintain its shape and resist snags. The swimsuit also has a UPF 50+ rating, providing the highest level of sun protection by blocking 98% of harmful rays. Additionally, the crossover no-slip straps and fully lined bottom ensure a secure fit and maximum coverage. For maintenance, it is recommended to machine wash and line dry the swimsuit for best results.\"}},\n",
              " {'qa_pairs': {'query': 'What are the key features and benefits of the Refresh Swimwear V-Neck Tankini, and how does its fabric contribute to both comfort and environmental sustainability?',\n",
              "   'answer': \"The Refresh Swimwear V-Neck Tankini is designed for comfort and functionality, making it suitable for activities like swimming and stand-up paddleboarding (SUP). Key features include a fitted design that sits close to the body, lightweight racerback straps for ease of wear, and a flattering V-neck silhouette. The tankini is made from a premium Italian-blend fabric that consists of 82% recycled nylon and 18% Lycra® spandex, providing breathability, quick drying, and abrasion resistance. Additionally, it is UPF 50+ rated, offering the highest level of sun protection. The use of recycled materials in its construction highlights its environmental sustainability, making it a good choice for eco-conscious consumers. Care instructions recommend handwashing and line drying to maintain the fabric's quality.\"}},\n",
              " {'qa_pairs': {'query': \"What are the key features of the EcoFlex 3L Storm Pants, and how do they enhance the pants' performance for outdoor activities?\",\n",
              "   'answer': 'The EcoFlex 3L Storm Pants are designed with several key features that enhance their performance for outdoor activities. They utilize state-of-the-art TEK O2 technology, which provides the most breathability tested, ensuring comfort and dryness during various activities and weather conditions. The pants have a three-layer shell that delivers waterproof protection, making them suitable for all seasons. Additional features include weather-blocking interior gaiters that keep out rain and snow, full side zips for easy on and off over boots, and multiple pockets (two zippered hand pockets and a thigh pocket) for convenience. These features make the pants ideal for outdoor enthusiasts, including their use as ski pants.'}}]"
            ]
          },
          "metadata": {},
          "execution_count": 83
        }
      ]
    },
    {
      "cell_type": "code",
      "source": [
        "qa.run(examples[0][\"qa_pairs\"][\"query\"])"
      ],
      "metadata": {
        "colab": {
          "base_uri": "https://localhost:8080/",
          "height": 122
        },
        "id": "UyLfoG9Jletb",
        "outputId": "39e3b858-69e4-4243-c886-b9f207e97f23"
      },
      "execution_count": null,
      "outputs": [
        {
          "output_type": "stream",
          "name": "stdout",
          "text": [
            "\n",
            "\n",
            "\u001b[1m> Entering new RetrievalQA chain...\u001b[0m\n",
            "\n",
            "\u001b[1m> Finished chain.\u001b[0m\n"
          ]
        },
        {
          "output_type": "execute_result",
          "data": {
            "text/plain": [
              "'Yes, the Cozy Comfort Pullover Set has side pockets in the pull-on pants.'"
            ],
            "application/vnd.google.colaboratory.intrinsic+json": {
              "type": "string"
            }
          },
          "metadata": {},
          "execution_count": 85
        }
      ]
    },
    {
      "cell_type": "code",
      "source": [
        "import langchain\n",
        "langchain.debug = True"
      ],
      "metadata": {
        "id": "Z3E8tWNIlnH0"
      },
      "execution_count": null,
      "outputs": []
    },
    {
      "cell_type": "code",
      "source": [
        "qa.run(examples[0][\"qa_pairs\"][\"query\"])"
      ],
      "metadata": {
        "colab": {
          "base_uri": "https://localhost:8080/",
          "height": 1000
        },
        "id": "gpyAMPQSlwEh",
        "outputId": "74045d91-c5eb-41bd-bdbb-1c50f0807285"
      },
      "execution_count": null,
      "outputs": [
        {
          "output_type": "stream",
          "name": "stdout",
          "text": [
            "\u001b[32;1m\u001b[1;3m[chain/start]\u001b[0m \u001b[1m[chain:RetrievalQA] Entering Chain run with input:\n",
            "\u001b[0m{\n",
            "  \"query\": \"Do the Cozy Comfort Pullover Set        have side pockets?\"\n",
            "}\n",
            "\u001b[32;1m\u001b[1;3m[chain/start]\u001b[0m \u001b[1m[chain:RetrievalQA > chain:StuffDocumentsChain] Entering Chain run with input:\n",
            "\u001b[0m[inputs]\n",
            "\u001b[32;1m\u001b[1;3m[chain/start]\u001b[0m \u001b[1m[chain:RetrievalQA > chain:StuffDocumentsChain > chain:LLMChain] Entering Chain run with input:\n",
            "\u001b[0m{\n",
            "  \"question\": \"Do the Cozy Comfort Pullover Set        have side pockets?\",\n",
            "  \"context\": \": 10\\nname: Cozy Comfort Pullover Set, Stripe\\ndescription: Perfect for lounging, this striped knit set lives up to its name. We used ultrasoft fabric and an easy design that's as comfortable at bedtime as it is when we have to make a quick run out.\\r\\n\\r\\nSize & Fit\\r\\n- Pants are Favorite Fit: Sits lower on the waist.\\r\\n- Relaxed Fit: Our most generous fit sits farthest from the body.\\r\\n\\r\\nFabric & Care\\r\\n- In the softest blend of 63% polyester, 35% rayon and 2% spandex.\\r\\n\\r\\nAdditional Features\\r\\n- Relaxed fit top with raglan sleeves and rounded hem.\\r\\n- Pull-on pants have a wide elastic waistband and drawstring, side pockets and a modern slim leg.\\r\\n\\r\\nImported.<<<<>>>>>: 73\\nname: Cozy Cuddles Knit Pullover Set\\ndescription: Perfect for lounging, this knit set lives up to its name. We used ultrasoft fabric and an easy design that's as comfortable at bedtime as it is when we have to make a quick run out. \\r\\n\\r\\nSize & Fit \\r\\nPants are Favorite Fit: Sits lower on the waist. \\r\\nRelaxed Fit: Our most generous fit sits farthest from the body. \\r\\n\\r\\nFabric & Care \\r\\nIn the softest blend of 63% polyester, 35% rayon and 2% spandex.\\r\\n\\r\\nAdditional Features \\r\\nRelaxed fit top with raglan sleeves and rounded hem. \\r\\nPull-on pants have a wide elastic waistband and drawstring, side pockets and a modern slim leg. \\r\\nImported.<<<<>>>>>: 632\\nname: Cozy Comfort Fleece Pullover\\ndescription: The ultimate sweater fleece – made from superior fabric and offered at an unbeatable price. \\r\\n\\r\\nSize & Fit\\r\\nSlightly Fitted: Softly shapes the body. Falls at hip. \\r\\n\\r\\nWhy We Love It\\r\\nOur customers (and employees) love the rugged construction and heritage-inspired styling of our popular Sweater Fleece Pullover and wear it for absolutely everything. From high-intensity activities to everyday tasks, you'll find yourself reaching for it every time.\\r\\n\\r\\nFabric & Care\\r\\nRugged sweater-knit exterior and soft brushed interior for exceptional warmth and comfort. Made from soft, 100% polyester. Machine wash and dry.\\r\\n\\r\\nAdditional Features\\r\\nFeatures our classic Mount Katahdin logo. Snap placket. Front princess seams create a feminine shape. Kangaroo handwarmer pockets. Cuffs and hem reinforced with jersey binding. Imported.\\r\\n\\r\\n – Official Supplier to the U.S. Ski Team\\r\\nTHEIR WILL TO WIN, WOVEN RIGHT IN. LEARN MORE<<<<>>>>>: 265\\nname: Cozy Workout Vest\\ndescription: For serious warmth that won't weigh you down, reach for this fleece-lined vest, which provides you with layering options whether you're inside or outdoors.\\r\\nSize & Fit\\r\\nRelaxed Fit. Falls at hip.\\r\\nFabric & Care\\r\\nSoft, textured fleece lining. Nylon shell. Machine wash and dry. \\r\\nAdditional Features \\r\\nTwo handwarmer pockets. Knit side panels stretch for a more flattering fit. Shell fabric is treated to resist water and stains. Imported.\"\n",
            "}\n",
            "\u001b[32;1m\u001b[1;3m[llm/start]\u001b[0m \u001b[1m[chain:RetrievalQA > chain:StuffDocumentsChain > chain:LLMChain > llm:ChatOpenAI] Entering LLM run with input:\n",
            "\u001b[0m{\n",
            "  \"prompts\": [\n",
            "    \"System: Use the following pieces of context to answer the user's question. \\nIf you don't know the answer, just say that you don't know, don't try to make up an answer.\\n----------------\\n: 10\\nname: Cozy Comfort Pullover Set, Stripe\\ndescription: Perfect for lounging, this striped knit set lives up to its name. We used ultrasoft fabric and an easy design that's as comfortable at bedtime as it is when we have to make a quick run out.\\r\\n\\r\\nSize & Fit\\r\\n- Pants are Favorite Fit: Sits lower on the waist.\\r\\n- Relaxed Fit: Our most generous fit sits farthest from the body.\\r\\n\\r\\nFabric & Care\\r\\n- In the softest blend of 63% polyester, 35% rayon and 2% spandex.\\r\\n\\r\\nAdditional Features\\r\\n- Relaxed fit top with raglan sleeves and rounded hem.\\r\\n- Pull-on pants have a wide elastic waistband and drawstring, side pockets and a modern slim leg.\\r\\n\\r\\nImported.<<<<>>>>>: 73\\nname: Cozy Cuddles Knit Pullover Set\\ndescription: Perfect for lounging, this knit set lives up to its name. We used ultrasoft fabric and an easy design that's as comfortable at bedtime as it is when we have to make a quick run out. \\r\\n\\r\\nSize & Fit \\r\\nPants are Favorite Fit: Sits lower on the waist. \\r\\nRelaxed Fit: Our most generous fit sits farthest from the body. \\r\\n\\r\\nFabric & Care \\r\\nIn the softest blend of 63% polyester, 35% rayon and 2% spandex.\\r\\n\\r\\nAdditional Features \\r\\nRelaxed fit top with raglan sleeves and rounded hem. \\r\\nPull-on pants have a wide elastic waistband and drawstring, side pockets and a modern slim leg. \\r\\nImported.<<<<>>>>>: 632\\nname: Cozy Comfort Fleece Pullover\\ndescription: The ultimate sweater fleece – made from superior fabric and offered at an unbeatable price. \\r\\n\\r\\nSize & Fit\\r\\nSlightly Fitted: Softly shapes the body. Falls at hip. \\r\\n\\r\\nWhy We Love It\\r\\nOur customers (and employees) love the rugged construction and heritage-inspired styling of our popular Sweater Fleece Pullover and wear it for absolutely everything. From high-intensity activities to everyday tasks, you'll find yourself reaching for it every time.\\r\\n\\r\\nFabric & Care\\r\\nRugged sweater-knit exterior and soft brushed interior for exceptional warmth and comfort. Made from soft, 100% polyester. Machine wash and dry.\\r\\n\\r\\nAdditional Features\\r\\nFeatures our classic Mount Katahdin logo. Snap placket. Front princess seams create a feminine shape. Kangaroo handwarmer pockets. Cuffs and hem reinforced with jersey binding. Imported.\\r\\n\\r\\n – Official Supplier to the U.S. Ski Team\\r\\nTHEIR WILL TO WIN, WOVEN RIGHT IN. LEARN MORE<<<<>>>>>: 265\\nname: Cozy Workout Vest\\ndescription: For serious warmth that won't weigh you down, reach for this fleece-lined vest, which provides you with layering options whether you're inside or outdoors.\\r\\nSize & Fit\\r\\nRelaxed Fit. Falls at hip.\\r\\nFabric & Care\\r\\nSoft, textured fleece lining. Nylon shell. Machine wash and dry. \\r\\nAdditional Features \\r\\nTwo handwarmer pockets. Knit side panels stretch for a more flattering fit. Shell fabric is treated to resist water and stains. Imported.\\nHuman: Do the Cozy Comfort Pullover Set        have side pockets?\"\n",
            "  ]\n",
            "}\n",
            "\u001b[36;1m\u001b[1;3m[llm/end]\u001b[0m \u001b[1m[chain:RetrievalQA > chain:StuffDocumentsChain > chain:LLMChain > llm:ChatOpenAI] [586ms] Exiting LLM run with output:\n",
            "\u001b[0m{\n",
            "  \"generations\": [\n",
            "    [\n",
            "      {\n",
            "        \"text\": \"Yes, the Cozy Comfort Pullover Set has side pockets in the pull-on pants.\",\n",
            "        \"generation_info\": {\n",
            "          \"finish_reason\": \"stop\",\n",
            "          \"logprobs\": null\n",
            "        },\n",
            "        \"type\": \"ChatGeneration\",\n",
            "        \"message\": {\n",
            "          \"lc\": 1,\n",
            "          \"type\": \"constructor\",\n",
            "          \"id\": [\n",
            "            \"langchain\",\n",
            "            \"schema\",\n",
            "            \"messages\",\n",
            "            \"AIMessage\"\n",
            "          ],\n",
            "          \"kwargs\": {\n",
            "            \"content\": \"Yes, the Cozy Comfort Pullover Set has side pockets in the pull-on pants.\",\n",
            "            \"additional_kwargs\": {\n",
            "              \"refusal\": null\n",
            "            },\n",
            "            \"response_metadata\": {\n",
            "              \"token_usage\": {\n",
            "                \"completion_tokens\": 17,\n",
            "                \"prompt_tokens\": 692,\n",
            "                \"total_tokens\": 709,\n",
            "                \"completion_tokens_details\": {\n",
            "                  \"accepted_prediction_tokens\": 0,\n",
            "                  \"audio_tokens\": 0,\n",
            "                  \"reasoning_tokens\": 0,\n",
            "                  \"rejected_prediction_tokens\": 0\n",
            "                },\n",
            "                \"prompt_tokens_details\": {\n",
            "                  \"audio_tokens\": 0,\n",
            "                  \"cached_tokens\": 0\n",
            "                }\n",
            "              },\n",
            "              \"model_name\": \"gpt-4o-mini-2024-07-18\",\n",
            "              \"system_fingerprint\": \"fp_0705bf87c0\",\n",
            "              \"finish_reason\": \"stop\",\n",
            "              \"logprobs\": null\n",
            "            },\n",
            "            \"type\": \"ai\",\n",
            "            \"id\": \"run-e2833488-2b6c-411e-8629-39a95d0f54aa-0\",\n",
            "            \"usage_metadata\": {\n",
            "              \"input_tokens\": 692,\n",
            "              \"output_tokens\": 17,\n",
            "              \"total_tokens\": 709,\n",
            "              \"input_token_details\": {\n",
            "                \"audio\": 0,\n",
            "                \"cache_read\": 0\n",
            "              },\n",
            "              \"output_token_details\": {\n",
            "                \"audio\": 0,\n",
            "                \"reasoning\": 0\n",
            "              }\n",
            "            },\n",
            "            \"tool_calls\": [],\n",
            "            \"invalid_tool_calls\": []\n",
            "          }\n",
            "        }\n",
            "      }\n",
            "    ]\n",
            "  ],\n",
            "  \"llm_output\": {\n",
            "    \"token_usage\": {\n",
            "      \"completion_tokens\": 17,\n",
            "      \"prompt_tokens\": 692,\n",
            "      \"total_tokens\": 709,\n",
            "      \"completion_tokens_details\": {\n",
            "        \"accepted_prediction_tokens\": 0,\n",
            "        \"audio_tokens\": 0,\n",
            "        \"reasoning_tokens\": 0,\n",
            "        \"rejected_prediction_tokens\": 0\n",
            "      },\n",
            "      \"prompt_tokens_details\": {\n",
            "        \"audio_tokens\": 0,\n",
            "        \"cached_tokens\": 0\n",
            "      }\n",
            "    },\n",
            "    \"model_name\": \"gpt-4o-mini-2024-07-18\",\n",
            "    \"system_fingerprint\": \"fp_0705bf87c0\"\n",
            "  },\n",
            "  \"run\": null,\n",
            "  \"type\": \"LLMResult\"\n",
            "}\n",
            "\u001b[36;1m\u001b[1;3m[chain/end]\u001b[0m \u001b[1m[chain:RetrievalQA > chain:StuffDocumentsChain > chain:LLMChain] [592ms] Exiting Chain run with output:\n",
            "\u001b[0m{\n",
            "  \"text\": \"Yes, the Cozy Comfort Pullover Set has side pockets in the pull-on pants.\"\n",
            "}\n",
            "\u001b[36;1m\u001b[1;3m[chain/end]\u001b[0m \u001b[1m[chain:RetrievalQA > chain:StuffDocumentsChain] [602ms] Exiting Chain run with output:\n",
            "\u001b[0m{\n",
            "  \"output_text\": \"Yes, the Cozy Comfort Pullover Set has side pockets in the pull-on pants.\"\n",
            "}\n",
            "\u001b[36;1m\u001b[1;3m[chain/end]\u001b[0m \u001b[1m[chain:RetrievalQA] [1.15s] Exiting Chain run with output:\n",
            "\u001b[0m{\n",
            "  \"result\": \"Yes, the Cozy Comfort Pullover Set has side pockets in the pull-on pants.\"\n",
            "}\n"
          ]
        },
        {
          "output_type": "execute_result",
          "data": {
            "text/plain": [
              "'Yes, the Cozy Comfort Pullover Set has side pockets in the pull-on pants.'"
            ],
            "application/vnd.google.colaboratory.intrinsic+json": {
              "type": "string"
            }
          },
          "metadata": {},
          "execution_count": 88
        }
      ]
    },
    {
      "cell_type": "code",
      "source": [
        "langchain.debug = False"
      ],
      "metadata": {
        "id": "dEvDxRSNlyhI"
      },
      "execution_count": null,
      "outputs": []
    },
    {
      "cell_type": "code",
      "source": [
        "examples"
      ],
      "metadata": {
        "colab": {
          "base_uri": "https://localhost:8080/"
        },
        "id": "l1UGcP9sl6WS",
        "outputId": "a109bb1e-297b-4344-a845-b3b9044bf2c1"
      },
      "execution_count": null,
      "outputs": [
        {
          "output_type": "execute_result",
          "data": {
            "text/plain": [
              "[{'qa_pairs': {'query': 'Do the Cozy Comfort Pullover Set        have side pockets?',\n",
              "   'answer': 'Yes'}},\n",
              " {'qa_pairs': {'query': 'What collection is the Ultra-Lofty         850 Stretch Down Hooded Jacket from?',\n",
              "   'answer': 'The DownTek collection'}},\n",
              " {'qa_pairs': {'query': \"What are the key features and specifications of the Women's Campside Oxfords as described in the document?\",\n",
              "   'answer': \"The Women's Campside Oxfords are designed for comfort and quality, featuring a super-soft canvas material that provides a broken-in feel from the first wear. They have thick cushioning, an EVA innersole with Cleansport NXT® antimicrobial odor control, and a vintage hunt, fish, and camping motif on the innersole. The shoes have a moderate arch contour and an EVA foam midsole for additional cushioning and support. The outsole is made of molded rubber with a modified chain-tread pattern. The approximate weight of the shoes is 1 lb. 1 oz. per pair, and it is recommended to order the regular shoe size, or the next whole size for half sizes not offered.\"}},\n",
              " {'qa_pairs': {'query': 'What are the dimensions of the small and medium sizes of the Recycled Waterhog Dog Mat, and what materials are used in its construction?',\n",
              "   'answer': 'The small size of the Recycled Waterhog Dog Mat measures 18\" x 28\", while the medium size measures 22.5\" x 34.5\". The mat is constructed from 24 oz. polyester fabric made from 94% recycled materials and features a rubber backing.'}},\n",
              " {'qa_pairs': {'query': \"What are the key features of the Infant and Toddler Girls' Coastal Chill Swimsuit, and how do they contribute to the swimsuit's functionality and safety?\",\n",
              "   'answer': \"The Infant and Toddler Girls' Coastal Chill Swimsuit features bright colors, ruffles, and exclusive whimsical prints, making it visually appealing for toddlers. It is made from four-way-stretch and chlorine-resistant fabric, which helps maintain its shape and resist snags. The swimsuit also has a UPF 50+ rating, providing the highest level of sun protection by blocking 98% of harmful rays. Additionally, the crossover no-slip straps and fully lined bottom ensure a secure fit and maximum coverage. For maintenance, it is recommended to machine wash and line dry the swimsuit for best results.\"}},\n",
              " {'qa_pairs': {'query': 'What are the key features and benefits of the Refresh Swimwear V-Neck Tankini, and how does its fabric contribute to both comfort and environmental sustainability?',\n",
              "   'answer': \"The Refresh Swimwear V-Neck Tankini is designed for comfort and functionality, making it suitable for activities like swimming and stand-up paddleboarding (SUP). Key features include a fitted design that sits close to the body, lightweight racerback straps for ease of wear, and a flattering V-neck silhouette. The tankini is made from a premium Italian-blend fabric that consists of 82% recycled nylon and 18% Lycra® spandex, providing breathability, quick drying, and abrasion resistance. Additionally, it is UPF 50+ rated, offering the highest level of sun protection. The use of recycled materials in its construction highlights its environmental sustainability, making it a good choice for eco-conscious consumers. Care instructions recommend handwashing and line drying to maintain the fabric's quality.\"}},\n",
              " {'qa_pairs': {'query': \"What are the key features of the EcoFlex 3L Storm Pants, and how do they enhance the pants' performance for outdoor activities?\",\n",
              "   'answer': 'The EcoFlex 3L Storm Pants are designed with several key features that enhance their performance for outdoor activities. They utilize state-of-the-art TEK O2 technology, which provides the most breathability tested, ensuring comfort and dryness during various activities and weather conditions. The pants have a three-layer shell that delivers waterproof protection, making them suitable for all seasons. Additional features include weather-blocking interior gaiters that keep out rain and snow, full side zips for easy on and off over boots, and multiple pockets (two zippered hand pockets and a thigh pocket) for convenience. These features make the pants ideal for outdoor enthusiasts, including their use as ski pants.'}}]"
            ]
          },
          "metadata": {},
          "execution_count": 91
        }
      ]
    },
    {
      "cell_type": "code",
      "source": [
        "examples[0]"
      ],
      "metadata": {
        "colab": {
          "base_uri": "https://localhost:8080/"
        },
        "id": "aqaULS8Fp0qd",
        "outputId": "f865fadd-82c0-4b63-93cd-c33898222a41"
      },
      "execution_count": null,
      "outputs": [
        {
          "output_type": "execute_result",
          "data": {
            "text/plain": [
              "{'qa_pairs': {'query': 'Do the Cozy Comfort Pullover Set        have side pockets?',\n",
              "  'answer': 'Yes'}}"
            ]
          },
          "metadata": {},
          "execution_count": 92
        }
      ]
    },
    {
      "cell_type": "code",
      "source": [
        "formatted_examples = [example[\"qa_pairs\"] for example in examples]"
      ],
      "metadata": {
        "id": "apI1qj1Hpawq"
      },
      "execution_count": null,
      "outputs": []
    },
    {
      "cell_type": "code",
      "source": [
        "formatted_examples"
      ],
      "metadata": {
        "colab": {
          "base_uri": "https://localhost:8080/"
        },
        "id": "1eAt1rIqp8i1",
        "outputId": "e58f6ccd-5358-42a1-c3c7-8f52ccc07963"
      },
      "execution_count": null,
      "outputs": [
        {
          "output_type": "execute_result",
          "data": {
            "text/plain": [
              "[{'query': 'Do the Cozy Comfort Pullover Set        have side pockets?',\n",
              "  'answer': 'Yes'},\n",
              " {'query': 'What collection is the Ultra-Lofty         850 Stretch Down Hooded Jacket from?',\n",
              "  'answer': 'The DownTek collection'},\n",
              " {'query': \"What are the key features and specifications of the Women's Campside Oxfords as described in the document?\",\n",
              "  'answer': \"The Women's Campside Oxfords are designed for comfort and quality, featuring a super-soft canvas material that provides a broken-in feel from the first wear. They have thick cushioning, an EVA innersole with Cleansport NXT® antimicrobial odor control, and a vintage hunt, fish, and camping motif on the innersole. The shoes have a moderate arch contour and an EVA foam midsole for additional cushioning and support. The outsole is made of molded rubber with a modified chain-tread pattern. The approximate weight of the shoes is 1 lb. 1 oz. per pair, and it is recommended to order the regular shoe size, or the next whole size for half sizes not offered.\"},\n",
              " {'query': 'What are the dimensions of the small and medium sizes of the Recycled Waterhog Dog Mat, and what materials are used in its construction?',\n",
              "  'answer': 'The small size of the Recycled Waterhog Dog Mat measures 18\" x 28\", while the medium size measures 22.5\" x 34.5\". The mat is constructed from 24 oz. polyester fabric made from 94% recycled materials and features a rubber backing.'},\n",
              " {'query': \"What are the key features of the Infant and Toddler Girls' Coastal Chill Swimsuit, and how do they contribute to the swimsuit's functionality and safety?\",\n",
              "  'answer': \"The Infant and Toddler Girls' Coastal Chill Swimsuit features bright colors, ruffles, and exclusive whimsical prints, making it visually appealing for toddlers. It is made from four-way-stretch and chlorine-resistant fabric, which helps maintain its shape and resist snags. The swimsuit also has a UPF 50+ rating, providing the highest level of sun protection by blocking 98% of harmful rays. Additionally, the crossover no-slip straps and fully lined bottom ensure a secure fit and maximum coverage. For maintenance, it is recommended to machine wash and line dry the swimsuit for best results.\"},\n",
              " {'query': 'What are the key features and benefits of the Refresh Swimwear V-Neck Tankini, and how does its fabric contribute to both comfort and environmental sustainability?',\n",
              "  'answer': \"The Refresh Swimwear V-Neck Tankini is designed for comfort and functionality, making it suitable for activities like swimming and stand-up paddleboarding (SUP). Key features include a fitted design that sits close to the body, lightweight racerback straps for ease of wear, and a flattering V-neck silhouette. The tankini is made from a premium Italian-blend fabric that consists of 82% recycled nylon and 18% Lycra® spandex, providing breathability, quick drying, and abrasion resistance. Additionally, it is UPF 50+ rated, offering the highest level of sun protection. The use of recycled materials in its construction highlights its environmental sustainability, making it a good choice for eco-conscious consumers. Care instructions recommend handwashing and line drying to maintain the fabric's quality.\"},\n",
              " {'query': \"What are the key features of the EcoFlex 3L Storm Pants, and how do they enhance the pants' performance for outdoor activities?\",\n",
              "  'answer': 'The EcoFlex 3L Storm Pants are designed with several key features that enhance their performance for outdoor activities. They utilize state-of-the-art TEK O2 technology, which provides the most breathability tested, ensuring comfort and dryness during various activities and weather conditions. The pants have a three-layer shell that delivers waterproof protection, making them suitable for all seasons. Additional features include weather-blocking interior gaiters that keep out rain and snow, full side zips for easy on and off over boots, and multiple pockets (two zippered hand pockets and a thigh pocket) for convenience. These features make the pants ideal for outdoor enthusiasts, including their use as ski pants.'}]"
            ]
          },
          "metadata": {},
          "execution_count": 95
        }
      ]
    },
    {
      "cell_type": "code",
      "source": [
        "predictions = qa.apply(formatted_examples)"
      ],
      "metadata": {
        "colab": {
          "base_uri": "https://localhost:8080/"
        },
        "id": "2fKzPh-Qp_fk",
        "outputId": "155a70d4-96b9-4920-95ff-ef445bc5ea8f"
      },
      "execution_count": null,
      "outputs": [
        {
          "output_type": "stream",
          "name": "stdout",
          "text": [
            "\n",
            "\n",
            "\u001b[1m> Entering new RetrievalQA chain...\u001b[0m\n",
            "\n",
            "\u001b[1m> Finished chain.\u001b[0m\n",
            "\n",
            "\n",
            "\u001b[1m> Entering new RetrievalQA chain...\u001b[0m\n",
            "\n",
            "\u001b[1m> Finished chain.\u001b[0m\n",
            "\n",
            "\n",
            "\u001b[1m> Entering new RetrievalQA chain...\u001b[0m\n",
            "\n",
            "\u001b[1m> Finished chain.\u001b[0m\n",
            "\n",
            "\n",
            "\u001b[1m> Entering new RetrievalQA chain...\u001b[0m\n",
            "\n",
            "\u001b[1m> Finished chain.\u001b[0m\n",
            "\n",
            "\n",
            "\u001b[1m> Entering new RetrievalQA chain...\u001b[0m\n",
            "\n",
            "\u001b[1m> Finished chain.\u001b[0m\n",
            "\n",
            "\n",
            "\u001b[1m> Entering new RetrievalQA chain...\u001b[0m\n",
            "\n",
            "\u001b[1m> Finished chain.\u001b[0m\n",
            "\n",
            "\n",
            "\u001b[1m> Entering new RetrievalQA chain...\u001b[0m\n",
            "\n",
            "\u001b[1m> Finished chain.\u001b[0m\n"
          ]
        }
      ]
    },
    {
      "cell_type": "code",
      "source": [
        "from langchain.evaluation.qa import QAEvalChain\n",
        "eval_chain = QAEvalChain.from_llm(llm)"
      ],
      "metadata": {
        "id": "IBgK0zWvqErj"
      },
      "execution_count": null,
      "outputs": []
    },
    {
      "cell_type": "code",
      "source": [
        "graded_outputs = eval_chain.evaluate(formatted_examples,predictions)"
      ],
      "metadata": {
        "id": "Upf5VtUwqr23"
      },
      "execution_count": null,
      "outputs": []
    },
    {
      "cell_type": "code",
      "source": [
        "graded_outputs"
      ],
      "metadata": {
        "colab": {
          "base_uri": "https://localhost:8080/"
        },
        "id": "tZ08SfaUtAs5",
        "outputId": "28605a5d-899f-4c82-8546-c0a9c13af6af"
      },
      "execution_count": null,
      "outputs": [
        {
          "output_type": "execute_result",
          "data": {
            "text/plain": [
              "[{'results': 'CORRECT'},\n",
              " {'results': 'INCORRECT'},\n",
              " {'results': 'GRADE: CORRECT'},\n",
              " {'results': 'GRADE: CORRECT'},\n",
              " {'results': 'GRADE: CORRECT'},\n",
              " {'results': 'GRADE: CORRECT'},\n",
              " {'results': 'GRADE: CORRECT'}]"
            ]
          },
          "metadata": {},
          "execution_count": 103
        }
      ]
    },
    {
      "cell_type": "code",
      "source": [
        "for i in range(len(graded_outputs)):\n",
        "    print(\"Example : \",i)\n",
        "    print(\"Question: \" + predictions[i]['query'])\n",
        "    print(\"Real Answer: \" + formatted_examples[i]['answer'])\n",
        "    print(\"Predicted Answer: \" + predictions[i]['result'])\n",
        "    print(\"Predicted Grade: \" + graded_outputs[i]['results'])\n",
        "\n"
      ],
      "metadata": {
        "colab": {
          "base_uri": "https://localhost:8080/"
        },
        "id": "pwL6i8vXtIC2",
        "outputId": "6119ddc0-b643-4ed1-b0d8-271264bd9449"
      },
      "execution_count": null,
      "outputs": [
        {
          "output_type": "stream",
          "name": "stdout",
          "text": [
            "Example :  0\n",
            "Question: Do the Cozy Comfort Pullover Set        have side pockets?\n",
            "Real Answer: Yes\n",
            "Predicted Answer: Yes, the Cozy Comfort Pullover Set has side pockets in the pull-on pants.\n",
            "Predicted Grade: CORRECT\n",
            "Example :  1\n",
            "Question: What collection is the Ultra-Lofty         850 Stretch Down Hooded Jacket from?\n",
            "Real Answer: The DownTek collection\n",
            "Predicted Answer: The Ultra-Lofty 850 Stretch Down Hooded Jacket is from the DownTek collection.\n",
            "Predicted Grade: INCORRECT\n",
            "Example :  2\n",
            "Question: What are the key features and specifications of the Women's Campside Oxfords as described in the document?\n",
            "Real Answer: The Women's Campside Oxfords are designed for comfort and quality, featuring a super-soft canvas material that provides a broken-in feel from the first wear. They have thick cushioning, an EVA innersole with Cleansport NXT® antimicrobial odor control, and a vintage hunt, fish, and camping motif on the innersole. The shoes have a moderate arch contour and an EVA foam midsole for additional cushioning and support. The outsole is made of molded rubber with a modified chain-tread pattern. The approximate weight of the shoes is 1 lb. 1 oz. per pair, and it is recommended to order the regular shoe size, or the next whole size for half sizes not offered.\n",
            "Predicted Answer: The key features and specifications of the Women's Campside Oxfords are as follows:\n",
            "\n",
            "- **Description**: Ultralight lace-to-toe Oxford with a super-soft canvas, thick cushioning, and quality construction for a broken-in feel from the first wear.\n",
            "- **Size & Fit**: Order regular shoe size; for half sizes not offered, order up to the next whole size.\n",
            "- **Approximate Weight**: 1 lb. 1 oz. per pair.\n",
            "- **Construction**:\n",
            "  - Soft canvas material for a broken-in feel and look.\n",
            "  - Comfortable EVA innersole with Cleansport NXT® antimicrobial odor control.\n",
            "  - Vintage hunt, fish, and camping motif on the innersole.\n",
            "  - Moderate arch contour of the innersole.\n",
            "  - EVA foam midsole for cushioning and support.\n",
            "  - Chain-tread-inspired molded rubber outsole with a modified chain-tread pattern.\n",
            "- **Import Status**: Imported.\n",
            "\n",
            "For any inquiries, customers are encouraged to contact the company.\n",
            "Predicted Grade: GRADE: CORRECT\n",
            "Example :  3\n",
            "Question: What are the dimensions of the small and medium sizes of the Recycled Waterhog Dog Mat, and what materials are used in its construction?\n",
            "Real Answer: The small size of the Recycled Waterhog Dog Mat measures 18\" x 28\", while the medium size measures 22.5\" x 34.5\". The mat is constructed from 24 oz. polyester fabric made from 94% recycled materials and features a rubber backing.\n",
            "Predicted Answer: The dimensions of the Recycled Waterhog Dog Mat are as follows:\n",
            "- Small: 18\" x 28\"\n",
            "- Medium: 22.5\" x 34.5\"\n",
            "\n",
            "The construction materials used are 24 oz. polyester fabric made from 94% recycled materials and a rubber backing.\n",
            "Predicted Grade: GRADE: CORRECT\n",
            "Example :  4\n",
            "Question: What are the key features of the Infant and Toddler Girls' Coastal Chill Swimsuit, and how do they contribute to the swimsuit's functionality and safety?\n",
            "Real Answer: The Infant and Toddler Girls' Coastal Chill Swimsuit features bright colors, ruffles, and exclusive whimsical prints, making it visually appealing for toddlers. It is made from four-way-stretch and chlorine-resistant fabric, which helps maintain its shape and resist snags. The swimsuit also has a UPF 50+ rating, providing the highest level of sun protection by blocking 98% of harmful rays. Additionally, the crossover no-slip straps and fully lined bottom ensure a secure fit and maximum coverage. For maintenance, it is recommended to machine wash and line dry the swimsuit for best results.\n",
            "Predicted Answer: The key features of the Infant and Toddler Girls' Coastal Chill Swimsuit include:\n",
            "\n",
            "1. **Bright Colors and Ruffles**: These design elements make the swimsuit visually appealing to toddlers, encouraging them to wear it.\n",
            "\n",
            "2. **Four-Way-Stretch and Chlorine-Resistant Fabric**: This feature ensures that the swimsuit maintains its shape and resists snags, contributing to durability and comfort during play.\n",
            "\n",
            "3. **UPF 50+ Rated Fabric**: This provides the highest level of sun protection, blocking 98% of the sun's harmful rays, which is crucial for protecting sensitive skin from UV damage.\n",
            "\n",
            "4. **Crossover No-Slip Straps**: These straps help ensure a secure fit, preventing the swimsuit from slipping off during active play in the water.\n",
            "\n",
            "5. **Fully Lined Bottom**: This feature offers maximum coverage and comfort, ensuring that the swimsuit is not only functional but also modest.\n",
            "\n",
            "6. **Machine Washable**: The ability to machine wash and line dry makes maintenance easy for parents, ensuring the swimsuit remains clean and ready for use.\n",
            "\n",
            "Overall, these features contribute to the swimsuit's functionality by providing comfort, durability, and ease of use, while the UPF protection and secure fit enhance safety for young children during water activities.\n",
            "Predicted Grade: GRADE: CORRECT\n",
            "Example :  5\n",
            "Question: What are the key features and benefits of the Refresh Swimwear V-Neck Tankini, and how does its fabric contribute to both comfort and environmental sustainability?\n",
            "Real Answer: The Refresh Swimwear V-Neck Tankini is designed for comfort and functionality, making it suitable for activities like swimming and stand-up paddleboarding (SUP). Key features include a fitted design that sits close to the body, lightweight racerback straps for ease of wear, and a flattering V-neck silhouette. The tankini is made from a premium Italian-blend fabric that consists of 82% recycled nylon and 18% Lycra® spandex, providing breathability, quick drying, and abrasion resistance. Additionally, it is UPF 50+ rated, offering the highest level of sun protection. The use of recycled materials in its construction highlights its environmental sustainability, making it a good choice for eco-conscious consumers. Care instructions recommend handwashing and line drying to maintain the fabric's quality.\n",
            "Predicted Answer: The key features and benefits of the Refresh Swimwear V-Neck Tankini include:\n",
            "\n",
            "1. **Design and Fit**: The tankini has a fitted design that sits close to the body, providing a flattering silhouette. It features a V-neck and lightweight racerback straps, making it easy to put on and take off while ensuring comfort during movement.\n",
            "\n",
            "2. **Eco-Friendly Fabric**: The tankini is made from 82% recycled nylon and 18% Lycra® spandex, contributing to environmental sustainability. The use of recycled materials helps reduce waste and the environmental impact of production.\n",
            "\n",
            "3. **Comfort**: The fabric is a premium Italian-blend that is breathable, quick drying, and abrasion resistant, ensuring comfort during various water activities. The Lycra® spandex provides the perfect amount of stretch for ease of movement.\n",
            "\n",
            "4. **Sun Protection**: The tankini is UPF 50+ rated, offering the highest level of sun protection possible, which is essential for outdoor activities.\n",
            "\n",
            "5. **Care Instructions**: It is recommended to handwash and line dry the tankini, which helps maintain its quality and longevity.\n",
            "\n",
            "Overall, the combination of its thoughtful design, eco-friendly materials, and protective features makes the Refresh Swimwear V-Neck Tankini a comfortable and sustainable choice for water sports.\n",
            "Predicted Grade: GRADE: CORRECT\n",
            "Example :  6\n",
            "Question: What are the key features of the EcoFlex 3L Storm Pants, and how do they enhance the pants' performance for outdoor activities?\n",
            "Real Answer: The EcoFlex 3L Storm Pants are designed with several key features that enhance their performance for outdoor activities. They utilize state-of-the-art TEK O2 technology, which provides the most breathability tested, ensuring comfort and dryness during various activities and weather conditions. The pants have a three-layer shell that delivers waterproof protection, making them suitable for all seasons. Additional features include weather-blocking interior gaiters that keep out rain and snow, full side zips for easy on and off over boots, and multiple pockets (two zippered hand pockets and a thigh pocket) for convenience. These features make the pants ideal for outdoor enthusiasts, including their use as ski pants.\n",
            "Predicted Answer: The key features of the EcoFlex 3L Storm Pants include:\n",
            "\n",
            "1. **TEK O2 Technology**: This state-of-the-art technology offers high breathability, ensuring comfort during various activities and weather conditions.\n",
            "\n",
            "2. **Waterproof Construction**: The pants are designed to be four-season waterproof, keeping the wearer dry in wet conditions.\n",
            "\n",
            "3. **Slightly Fitted Design**: The fit is slightly fitted through the hip and thigh, providing a comfortable yet functional silhouette.\n",
            "\n",
            "4. **Weather-Blocking Gaiters**: These features help to block out moisture and debris, enhancing protection during outdoor activities.\n",
            "\n",
            "5. **Handy Side Zips**: These zips provide convenience for ventilation and easy on/off access.\n",
            "\n",
            "Overall, these features enhance the pants' performance by ensuring that they are breathable, waterproof, and comfortable, making them suitable for a variety of outdoor activities year-round.\n",
            "Predicted Grade: GRADE: CORRECT\n"
          ]
        }
      ]
    },
    {
      "cell_type": "code",
      "source": [],
      "metadata": {
        "id": "rkqwJpT3tcSC"
      },
      "execution_count": null,
      "outputs": []
    }
  ]
}