{
  "nbformat": 4,
  "nbformat_minor": 0,
  "metadata": {
    "colab": {
      "provenance": []
    },
    "kernelspec": {
      "name": "python3",
      "display_name": "Python 3"
    },
    "language_info": {
      "name": "python"
    }
  },
  "cells": [
    {
      "cell_type": "code",
      "execution_count": 6,
      "metadata": {
        "colab": {
          "base_uri": "https://localhost:8080/"
        },
        "id": "juFbkXsx6S2c",
        "outputId": "7c92a2ef-0f8a-4318-d474-0443640d27d9"
      },
      "outputs": [
        {
          "output_type": "stream",
          "name": "stdout",
          "text": [
            "\u001b[2K   \u001b[90m━━━━━━━━━━━━━━━━━━━━━━━━━━━━━━━━━━━━━━━━\u001b[0m \u001b[32m2.4/2.4 MB\u001b[0m \u001b[31m26.0 MB/s\u001b[0m eta \u001b[36m0:00:00\u001b[0m\n",
            "\u001b[2K   \u001b[90m━━━━━━━━━━━━━━━━━━━━━━━━━━━━━━━━━━━━━━━━\u001b[0m \u001b[32m3.1/3.1 MB\u001b[0m \u001b[31m66.4 MB/s\u001b[0m eta \u001b[36m0:00:00\u001b[0m\n",
            "\u001b[2K   \u001b[90m━━━━━━━━━━━━━━━━━━━━━━━━━━━━━━━━━━━━━━━━\u001b[0m \u001b[32m49.5/49.5 kB\u001b[0m \u001b[31m2.9 MB/s\u001b[0m eta \u001b[36m0:00:00\u001b[0m\n",
            "\u001b[?25h"
          ]
        }
      ],
      "source": [
        "! pip install -qU yt_dlp pydub python-dotenv langchain langchain_openai gradio langchain_community"
      ]
    },
    {
      "cell_type": "code",
      "source": [
        "from dotenv import load_dotenv,find_dotenv\n",
        "load_dotenv(find_dotenv())"
      ],
      "metadata": {
        "colab": {
          "base_uri": "https://localhost:8080/"
        },
        "id": "Dp1P20lT84tA",
        "outputId": "7c21961c-c04b-40ac-b5ab-796f437b7ebe"
      },
      "execution_count": 11,
      "outputs": [
        {
          "output_type": "execute_result",
          "data": {
            "text/plain": [
              "True"
            ]
          },
          "metadata": {},
          "execution_count": 11
        }
      ]
    },
    {
      "cell_type": "code",
      "source": [
        "from langchain.document_loaders.generic import GenericLoader\n",
        "from langchain.document_loaders.parsers import OpenAIWhisperParser\n",
        "from langchain.document_loaders.blob_loaders.youtube_audio import YoutubeAudioLoader"
      ],
      "metadata": {
        "id": "2EmP1KDv7r4W"
      },
      "execution_count": 12,
      "outputs": []
    },
    {
      "cell_type": "code",
      "source": [
        "url = \"https://www.youtube.com/watch?v=ZiwogMtbjr4&ab_channel=StanfordOnline\"\n",
        "save_dir=\"docs/youtube/\"\n",
        "loader = GenericLoader(\n",
        "    YoutubeAudioLoader([url],save_dir),\n",
        "    OpenAIWhisperParser()\n",
        ")"
      ],
      "metadata": {
        "id": "otfDcat86wM8"
      },
      "execution_count": 13,
      "outputs": []
    },
    {
      "cell_type": "code",
      "source": [
        "docs = loader.load()"
      ],
      "metadata": {
        "colab": {
          "base_uri": "https://localhost:8080/"
        },
        "id": "BazukgsE9HTn",
        "outputId": "35faf727-d9fe-44b0-b3fe-c5eb4d017085"
      },
      "execution_count": 14,
      "outputs": [
        {
          "output_type": "stream",
          "name": "stdout",
          "text": [
            "[youtube] Extracting URL: https://www.youtube.com/watch?v=ZiwogMtbjr4&ab_channel=StanfordOnline\n",
            "[youtube] ZiwogMtbjr4: Downloading webpage\n",
            "[youtube] ZiwogMtbjr4: Downloading ios player API JSON\n",
            "[youtube] ZiwogMtbjr4: Downloading mweb player API JSON\n",
            "[youtube] ZiwogMtbjr4: Downloading m3u8 information\n",
            "[info] ZiwogMtbjr4: Downloading 1 format(s): 140\n",
            "[download] docs/youtube//General Intro ｜ Stanford CS221： Artificial Intelligence： Principles and Techniques (Autumn 2021).m4a has already been downloaded\n",
            "[download] 100% of   63.11MiB\n",
            "[ExtractAudio] Not converting audio docs/youtube//General Intro ｜ Stanford CS221： Artificial Intelligence： Principles and Techniques (Autumn 2021).m4a; file is already in target format m4a\n",
            "Transcribing part 1!\n",
            "Transcribing part 2!\n",
            "Transcribing part 3!\n",
            "Transcribing part 4!\n"
          ]
        }
      ]
    },
    {
      "cell_type": "code",
      "source": [
        "docs[0].metadata"
      ],
      "metadata": {
        "colab": {
          "base_uri": "https://localhost:8080/"
        },
        "id": "oE3Ina7P9IqB",
        "outputId": "75832def-cacf-438d-e848-27e1b1ec4695"
      },
      "execution_count": 17,
      "outputs": [
        {
          "output_type": "execute_result",
          "data": {
            "text/plain": [
              "{'source': 'docs/youtube/General Intro ｜ Stanford CS221： Artificial Intelligence： Principles and Techniques (Autumn 2021).m4a',\n",
              " 'chunk': 0}"
            ]
          },
          "metadata": {},
          "execution_count": 17
        }
      ]
    },
    {
      "cell_type": "code",
      "source": [
        "len(docs)"
      ],
      "metadata": {
        "colab": {
          "base_uri": "https://localhost:8080/"
        },
        "id": "R39zR339-gF2",
        "outputId": "d694a11c-00d2-4e9e-8a75-b172c3b90897"
      },
      "execution_count": 18,
      "outputs": [
        {
          "output_type": "execute_result",
          "data": {
            "text/plain": [
              "4"
            ]
          },
          "metadata": {},
          "execution_count": 18
        }
      ]
    },
    {
      "cell_type": "code",
      "source": [
        "from langchain.embeddings.openai import OpenAIEmbeddings\n",
        "embedding = OpenAIEmbeddings()"
      ],
      "metadata": {
        "colab": {
          "base_uri": "https://localhost:8080/"
        },
        "id": "U0W8gbpu-toN",
        "outputId": "1703282a-da0f-4282-f7fd-ccae15471f27"
      },
      "execution_count": 19,
      "outputs": [
        {
          "output_type": "stream",
          "name": "stderr",
          "text": [
            "<ipython-input-19-ca2f04320657>:2: LangChainDeprecationWarning: The class `OpenAIEmbeddings` was deprecated in LangChain 0.0.9 and will be removed in 1.0. An updated version of the class exists in the :class:`~langchain-openai package and should be used instead. To use it run `pip install -U :class:`~langchain-openai` and import as `from :class:`~langchain_openai import OpenAIEmbeddings``.\n",
            "  embedding = OpenAIEmbeddings()\n"
          ]
        }
      ]
    },
    {
      "cell_type": "code",
      "source": [
        "sentence_1=\"I like mango\"\n",
        "sentence_2=\"I love mango\"\n",
        "sentence_3=\"Tesla is very costly\""
      ],
      "metadata": {
        "id": "BbN0RLlT_1kV"
      },
      "execution_count": 32,
      "outputs": []
    },
    {
      "cell_type": "code",
      "source": [
        "embedding_1 = embedding.embed_query(sentence_1)\n",
        "embedding_2 = embedding.embed_query(sentence_2)\n",
        "embedding_3 = embedding.embed_query(sentence_3)"
      ],
      "metadata": {
        "id": "ScjBbAeo__pl"
      },
      "execution_count": 33,
      "outputs": []
    },
    {
      "cell_type": "code",
      "source": [
        "import numpy as np"
      ],
      "metadata": {
        "id": "PnVt0gC2APVG"
      },
      "execution_count": 34,
      "outputs": []
    },
    {
      "cell_type": "code",
      "source": [
        "np.dot(embedding_1,embedding_2)"
      ],
      "metadata": {
        "colab": {
          "base_uri": "https://localhost:8080/"
        },
        "id": "rwI6DvbqAQyL",
        "outputId": "0eb51876-51f8-4119-b9f9-ad821e84a59a"
      },
      "execution_count": 35,
      "outputs": [
        {
          "output_type": "execute_result",
          "data": {
            "text/plain": [
              "0.9809540264078283"
            ]
          },
          "metadata": {},
          "execution_count": 35
        }
      ]
    },
    {
      "cell_type": "code",
      "source": [
        "np.dot(embedding_1,embedding_3)"
      ],
      "metadata": {
        "colab": {
          "base_uri": "https://localhost:8080/"
        },
        "id": "jmXxnxXiAS4D",
        "outputId": "7e2b12b1-0ab1-4af1-a528-1a35cc06855f"
      },
      "execution_count": 36,
      "outputs": [
        {
          "output_type": "execute_result",
          "data": {
            "text/plain": [
              "0.7101333782121164"
            ]
          },
          "metadata": {},
          "execution_count": 36
        }
      ]
    },
    {
      "cell_type": "code",
      "source": [
        "np.dot(embedding_2,embedding_3)"
      ],
      "metadata": {
        "colab": {
          "base_uri": "https://localhost:8080/"
        },
        "id": "i8LcOwPGAWNi",
        "outputId": "b725ed7e-40b9-46a6-bc7b-20342c392bea"
      },
      "execution_count": 37,
      "outputs": [
        {
          "output_type": "execute_result",
          "data": {
            "text/plain": [
              "0.7071724742750878"
            ]
          },
          "metadata": {},
          "execution_count": 37
        }
      ]
    },
    {
      "cell_type": "code",
      "source": [
        "from langchain.text_splitter import RecursiveCharacterTextSplitter\n",
        "text_splitter = RecursiveCharacterTextSplitter(\n",
        "    chunk_size=1500,\n",
        "    chunk_overlap=150\n",
        ")\n",
        "\n",
        "chunks = text_splitter.split_documents(docs)\n",
        "len(chunks)"
      ],
      "metadata": {
        "colab": {
          "base_uri": "https://localhost:8080/"
        },
        "id": "AaY3Z9_OAeG2",
        "outputId": "1bee2852-30a7-4de3-dc48-80bb8f1c6810"
      },
      "execution_count": 39,
      "outputs": [
        {
          "output_type": "execute_result",
          "data": {
            "text/plain": [
              "52"
            ]
          },
          "metadata": {},
          "execution_count": 39
        }
      ]
    },
    {
      "cell_type": "code",
      "source": [
        "! pip install -qU chromadb"
      ],
      "metadata": {
        "id": "n21g1tVMBUof"
      },
      "execution_count": 41,
      "outputs": []
    },
    {
      "cell_type": "code",
      "source": [
        "persist_directory = \"docs/chroma\""
      ],
      "metadata": {
        "id": "6nznSv54BwK1"
      },
      "execution_count": 42,
      "outputs": []
    },
    {
      "cell_type": "code",
      "source": [
        "from langchain.vectorstores import Chroma\n",
        "\n",
        "vectordb = Chroma.from_documents(\n",
        "    documents=chunks,\n",
        "    embedding = OpenAIEmbeddings(),\n",
        "    persist_directory=persist_directory\n",
        ")"
      ],
      "metadata": {
        "id": "yBjVJx3EB9pf"
      },
      "execution_count": 43,
      "outputs": []
    },
    {
      "cell_type": "code",
      "source": [
        "vectordb._collection.count()"
      ],
      "metadata": {
        "colab": {
          "base_uri": "https://localhost:8080/"
        },
        "id": "kXcYXQlBCR2o",
        "outputId": "bd462072-16d3-4303-8154-3e63c5b95d53"
      },
      "execution_count": 44,
      "outputs": [
        {
          "output_type": "execute_result",
          "data": {
            "text/plain": [
              "52"
            ]
          },
          "metadata": {},
          "execution_count": 44
        }
      ]
    },
    {
      "cell_type": "code",
      "source": [
        "question = \"What is the project that is mentioned in the above vedio\""
      ],
      "metadata": {
        "id": "we_vtbhNCYBn"
      },
      "execution_count": 45,
      "outputs": []
    },
    {
      "cell_type": "code",
      "source": [
        "docs = vectordb.similarity_search(question,k=3)"
      ],
      "metadata": {
        "id": "csd5TlwhCs5r"
      },
      "execution_count": 46,
      "outputs": []
    },
    {
      "cell_type": "code",
      "source": [
        "docs"
      ],
      "metadata": {
        "colab": {
          "base_uri": "https://localhost:8080/"
        },
        "id": "87JifImACyZU",
        "outputId": "e0b9a649-a027-4d49-e594-f61e31cc11f9"
      },
      "execution_count": 47,
      "outputs": [
        {
          "output_type": "execute_result",
          "data": {
            "text/plain": [
              "[Document(metadata={'chunk': 0, 'source': 'docs/youtube/General Intro ｜ Stanford CS221： Artificial Intelligence： Principles and Techniques (Autumn 2021).m4a'}, page_content=\"will be assigned one. Okay. So let me talk about the project also real quick. So the project this quarter is going to be optional. This is what we did last year too, because the course is virtual and we thought it might be a little bit more difficult to find a team and work together. But regardless, a lot of students did the project last year, and there are a lot of interesting ideas and projects came out of that. And it was really exciting to see like so many cool projects like during that quarter too. So I do recommend that you guys look into this closely even though it is optional. So the idea is you want to choose a task where you can actually apply some of the ideas that you have learned as part of this class and use those techniques for that particular task. It's a little bit open-ended. You need to like decide what that task is, but that's also the beauty.\"),\n",
              " Document(metadata={'chunk': 1, 'source': 'docs/youtube/General Intro ｜ Stanford CS221： Artificial Intelligence： Principles and Techniques (Autumn 2021).m4a'}, page_content=\"of it, right? We can pick anything and apply some of the AI techniques that we are learning for that. The idea is that we can work in groups of up to four people. And then we also have a set of milestones, like you need to fill out a project interest form, there's a proposal, progress report, and there's a video and final reports that you need to do. So if you decide to do the project and actually get the extra credit, you should do all these different, you should actually like pass through all these milestones and finish the project. Again, the task is completely open, but there are a set of well-defined steps that we expect you guys to have throughout the course, throughout the course for this project. So this includes things of the form of like defining the task or implementing your baselines and oracles and things of those form, or having a literature review, thinking about what your evaluation metrics are. And you will have a CA assigned to you if you decide to do a project, you'll have a CA assigned to your group. And your CA can also walk you through some of these different components that you want to have as part of your project. And in addition to that, one other thing that we've added is a mandatory check-in meeting with your CA. So this is a 15 minute mandatory check-in meeting with your CA. We think this is really useful and to make sure that you keep up with the project if you decide to do it. And in general, if you want to think about ideas for what to do for\"),\n",
              " Document(metadata={'chunk': 0, 'source': 'docs/youtube/General Intro ｜ Stanford CS221： Artificial Intelligence： Principles and Techniques (Autumn 2021).m4a'}, page_content=\"more robust and trustworthy. Recently, I've been really fascinated by what we've been calling foundation models, models such as GP3 and BERT and DALI. And I'm happy to discuss that more later in the class. All right. Thank you, Percy. All right. So what are we going to be talking about today? So our plan for today is to talk a little bit about some of the course logistics and then some of the course contents, like what are we going to actually cover as part of this class. Then we'll have some icebreakers. So we'll have a five-minute breakout room. We'll discuss things about AI. And then toward the end of the class, I'm going to talk a little bit about the history of AI, a brief history of AI, and then what AI is today and what are some risks and benefits of AI and how we should think about it moving forward. So that is our plan for today. So before I start, also, if there are any questions, feel free to put questions on Zoom chat or raise your hand. And the CAs can try to answer the questions or ask the questions throughout as I give the talk. All right. So let's talk about course logistics. So we are going to have a set of activities as part of the class. And last year, when we had to go virtually because of COVID, we started experimenting with a few different ways of changing and reformatting the class. And some of them worked really well, and some of them actually didn't work so well. So based on the experience that we have from last year, we've decided to switch up the\")]"
            ]
          },
          "metadata": {},
          "execution_count": 47
        }
      ]
    },
    {
      "cell_type": "code",
      "source": [
        "vectordb.persist()"
      ],
      "metadata": {
        "colab": {
          "base_uri": "https://localhost:8080/"
        },
        "id": "sGCEbK43CzE4",
        "outputId": "926f86d1-cfb4-4373-c609-ec7f115dd0e0"
      },
      "execution_count": 48,
      "outputs": [
        {
          "output_type": "stream",
          "name": "stderr",
          "text": [
            "<ipython-input-48-d832e715b29a>:1: LangChainDeprecationWarning: Since Chroma 0.4.x the manual persistence method is no longer supported as docs are automatically persisted.\n",
            "  vectordb.persist()\n"
          ]
        }
      ]
    },
    {
      "cell_type": "code",
      "source": [
        "from langchain.chains import RetrievalQA\n",
        "from langchain_openai import ChatOpenAI"
      ],
      "metadata": {
        "id": "zzknh2S3C42-"
      },
      "execution_count": 50,
      "outputs": []
    },
    {
      "cell_type": "code",
      "source": [
        "retrieval_qa = RetrievalQA.from_chain_type(\n",
        "    llm = ChatOpenAI(model=\"gpt-4o-mini\",temperature=0.0),\n",
        "    chain_type=\"stuff\",\n",
        "    retriever = vectordb.as_retriever()\n",
        ")"
      ],
      "metadata": {
        "id": "2Zc4SULvDUFd"
      },
      "execution_count": 53,
      "outputs": []
    },
    {
      "cell_type": "code",
      "source": [
        "retrieval_qa.invoke(\"What is the project that is mentioned here\")"
      ],
      "metadata": {
        "colab": {
          "base_uri": "https://localhost:8080/"
        },
        "id": "qqI0ax8QD0de",
        "outputId": "7bc7837b-b834-4bd3-8601-9498255875bd"
      },
      "execution_count": 55,
      "outputs": [
        {
          "output_type": "execute_result",
          "data": {
            "text/plain": [
              "{'query': 'What is the project that is mentioned here',\n",
              " 'result': 'The project mentioned is optional and allows students to choose a task where they can apply the AI techniques learned in the class. Students can work in groups of up to four people and must complete a set of milestones, including a project interest form, proposal, progress report, video, and final report. The project is open-ended, meaning students can pick any task to work on, and they will have a CA assigned to their group to assist them throughout the process.'}"
            ]
          },
          "metadata": {},
          "execution_count": 55
        }
      ]
    },
    {
      "cell_type": "code",
      "source": [],
      "metadata": {
        "id": "VHxoVyrcEJrg"
      },
      "execution_count": null,
      "outputs": []
    }
  ]
}