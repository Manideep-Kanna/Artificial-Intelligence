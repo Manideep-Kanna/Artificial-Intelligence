{
 "cells": [
  {
   "cell_type": "code",
   "execution_count": 2,
   "metadata": {
    "colab": {
     "base_uri": "https://localhost:8080/"
    },
    "id": "kSRAVhmtQTet",
    "outputId": "1fa3e9bc-de74-4e99-823d-53049f8804a5"
   },
   "outputs": [
    {
     "name": "stdout",
     "output_type": "stream",
     "text": [
      "Requirement already satisfied: openai in c:\\users\\kanna\\appdata\\local\\programs\\python\\python310\\lib\\site-packages (1.51.2)\n",
      "Requirement already satisfied: python-dotenv in c:\\users\\kanna\\appdata\\local\\programs\\python\\python310\\lib\\site-packages (1.0.1)\n",
      "Requirement already satisfied: anyio<5,>=3.5.0 in c:\\users\\kanna\\appdata\\local\\programs\\python\\python310\\lib\\site-packages (from openai) (4.6.0)\n",
      "Requirement already satisfied: jiter<1,>=0.4.0 in c:\\users\\kanna\\appdata\\local\\programs\\python\\python310\\lib\\site-packages (from openai) (0.6.1)\n",
      "Requirement already satisfied: distro<2,>=1.7.0 in c:\\users\\kanna\\appdata\\local\\programs\\python\\python310\\lib\\site-packages (from openai) (1.9.0)\n",
      "Requirement already satisfied: sniffio in c:\\users\\kanna\\appdata\\local\\programs\\python\\python310\\lib\\site-packages (from openai) (1.3.1)\n",
      "Requirement already satisfied: httpx<1,>=0.23.0 in c:\\users\\kanna\\appdata\\local\\programs\\python\\python310\\lib\\site-packages (from openai) (0.27.2)\n",
      "Requirement already satisfied: typing-extensions<5,>=4.11 in c:\\users\\kanna\\appdata\\local\\programs\\python\\python310\\lib\\site-packages (from openai) (4.12.2)\n",
      "Requirement already satisfied: pydantic<3,>=1.9.0 in c:\\users\\kanna\\appdata\\local\\programs\\python\\python310\\lib\\site-packages (from openai) (2.9.2)\n",
      "Requirement already satisfied: tqdm>4 in c:\\users\\kanna\\appdata\\local\\programs\\python\\python310\\lib\\site-packages (from openai) (4.66.5)\n",
      "Requirement already satisfied: exceptiongroup>=1.0.2 in c:\\users\\kanna\\appdata\\local\\programs\\python\\python310\\lib\\site-packages (from anyio<5,>=3.5.0->openai) (1.2.2)\n",
      "Requirement already satisfied: idna>=2.8 in c:\\users\\kanna\\appdata\\local\\programs\\python\\python310\\lib\\site-packages (from anyio<5,>=3.5.0->openai) (3.10)\n",
      "Requirement already satisfied: httpcore==1.* in c:\\users\\kanna\\appdata\\local\\programs\\python\\python310\\lib\\site-packages (from httpx<1,>=0.23.0->openai) (1.0.6)\n",
      "Requirement already satisfied: certifi in c:\\users\\kanna\\appdata\\local\\programs\\python\\python310\\lib\\site-packages (from httpx<1,>=0.23.0->openai) (2024.8.30)\n",
      "Requirement already satisfied: h11<0.15,>=0.13 in c:\\users\\kanna\\appdata\\local\\programs\\python\\python310\\lib\\site-packages (from httpcore==1.*->httpx<1,>=0.23.0->openai) (0.14.0)\n",
      "Requirement already satisfied: pydantic-core==2.23.4 in c:\\users\\kanna\\appdata\\local\\programs\\python\\python310\\lib\\site-packages (from pydantic<3,>=1.9.0->openai) (2.23.4)\n",
      "Requirement already satisfied: annotated-types>=0.6.0 in c:\\users\\kanna\\appdata\\local\\programs\\python\\python310\\lib\\site-packages (from pydantic<3,>=1.9.0->openai) (0.7.0)\n",
      "Requirement already satisfied: colorama in c:\\users\\kanna\\appdata\\local\\programs\\python\\python310\\lib\\site-packages (from tqdm>4->openai) (0.4.6)\n"
     ]
    },
    {
     "name": "stderr",
     "output_type": "stream",
     "text": [
      "WARNING: You are using pip version 21.2.3; however, version 24.3.1 is available.\n",
      "You should consider upgrading via the 'C:\\Users\\Kanna\\AppData\\Local\\Programs\\Python\\Python310\\python.exe -m pip install --upgrade pip' command.\n"
     ]
    }
   ],
   "source": [
    "! pip install openai python-dotenv"
   ]
  },
  {
   "cell_type": "code",
   "execution_count": 3,
   "metadata": {
    "id": "5ViRmZiaQYNV"
   },
   "outputs": [],
   "source": [
    "import os\n",
    "from openai import OpenAI\n",
    "from dotenv import load_dotenv\n",
    "\n",
    "load_dotenv()\n",
    "\n",
    "\n",
    "client = OpenAI(\n",
    "     api_key=os.getenv(\"OPEN_API_KEY\")\n",
    ")"
   ]
  },
  {
   "cell_type": "code",
   "execution_count": 4,
   "metadata": {
    "id": "l8kEg4jzQ0t0"
   },
   "outputs": [],
   "source": [
    "def get_completion(prompt,model='gpt-3.5-turbo'):\n",
    "  messages=[{\"role\": \"user\",\"content\": prompt}]\n",
    "  response = client.chat.completions.create(\n",
    "      model=model,\n",
    "      messages=messages,\n",
    "      temperature=0\n",
    "\n",
    "  )\n",
    "  return response.choices[0].message.content"
   ]
  },
  {
   "cell_type": "code",
   "execution_count": 5,
   "metadata": {
    "colab": {
     "base_uri": "https://localhost:8080/",
     "height": 36
    },
    "id": "5jtCpdHMRCh9",
    "outputId": "88cbf0e8-9e82-4d30-fbd9-257123b9fcf4"
   },
   "outputs": [
    {
     "data": {
      "text/plain": [
       "'The capital of France is Paris.'"
      ]
     },
     "execution_count": 5,
     "metadata": {},
     "output_type": "execute_result"
    }
   ],
   "source": [
    "response = get_completion(\"What is the capital of France?\")\n",
    "response"
   ]
  },
  {
   "cell_type": "code",
   "execution_count": 6,
   "metadata": {
    "colab": {
     "base_uri": "https://localhost:8080/"
    },
    "id": "hW5dMWpdRgg9",
    "outputId": "11462f69-218e-4cff-93fe-dc907d92a148"
   },
   "outputs": [
    {
     "name": "stdout",
     "output_type": "stream",
     "text": [
      "pilpolol\n"
     ]
    }
   ],
   "source": [
    "response = get_completion(\"Take the letters in lollipop \\\n",
    "and reverse them\")  # Here we can see that our LLM returns the tokens not the words. It divides lollipop how it logically thinks would have meaning\n",
    "print(response)"
   ]
  },
  {
   "cell_type": "code",
   "execution_count": 7,
   "metadata": {
    "colab": {
     "base_uri": "https://localhost:8080/",
     "height": 36
    },
    "id": "81BOUaLlRl9Q",
    "outputId": "04defa6b-6e6f-4ab6-c4b0-a8b664a2214f"
   },
   "outputs": [
    {
     "data": {
      "text/plain": [
       "'p-o-p-i-l-l-o-l'"
      ]
     },
     "execution_count": 7,
     "metadata": {},
     "output_type": "execute_result"
    }
   ],
   "source": [
    "response = get_completion(\"\"\"Take the letters in \\\n",
    "l-o-l-l-i-p-o-p and reverse them\"\"\")\n",
    "response"
   ]
  },
  {
   "cell_type": "code",
   "execution_count": null,
   "metadata": {
    "id": "pBdpT7neR9bt"
   },
   "outputs": [],
   "source": []
  },
  {
   "cell_type": "markdown",
   "metadata": {
    "id": "imJWyYCGSLjt"
   },
   "source": [
    "##Classification of Customer Service Queries"
   ]
  },
  {
   "cell_type": "code",
   "execution_count": 8,
   "metadata": {
    "id": "YAbK9R81SP4D"
   },
   "outputs": [],
   "source": [
    "\n",
    "delimiter=\"####\" #This is a token.Helps us to divide the context so that model understands clearly\n",
    "system_message= f\"\"\"\n",
    "You will be provided with the customer service queries. \\\n",
    "The customer service query will be delimited with the {delimiter} characters. \\\n",
    "Classify each query into primary category and a second category \\\n",
    "Provide the output in json format with the  \\\n",
    "keys: primary and secondary.\n",
    "\n",
    "Primary categories: Billing, Technical Support, \\\n",
    "Account Management, or General Inquiry.\n",
    "\n",
    "Billing secondary categories:\n",
    "Unsubscribe or upgrade\n",
    "Add a payment method\n",
    "Explanation for charge\n",
    "Dispute a charge\n",
    "\n",
    "Technical Support secondary categories:\n",
    "General troubleshooting\n",
    "Device compatibility\n",
    "Software updates\n",
    "\n",
    "Account Management secondary categories:\n",
    "Password reset\n",
    "Update personal information\n",
    "Close account\n",
    "Account security\n",
    "\n",
    "General Inquiry secondary categories:\n",
    "Product information\n",
    "Pricing\n",
    "Speak to a human\n",
    "\n",
    "\n",
    "\"\"\""
   ]
  },
  {
   "cell_type": "code",
   "execution_count": 9,
   "metadata": {
    "id": "S29t4gaCU0Go"
   },
   "outputs": [],
   "source": [
    "def get_completion(messages,model='gpt-3.5-turbo'):\n",
    "  response = client.chat.completions.create(\n",
    "      model=model,\n",
    "      messages=messages,\n",
    "      temperature=0\n",
    "\n",
    "  )\n",
    "  return response.choices[0].message.content"
   ]
  },
  {
   "cell_type": "code",
   "execution_count": 10,
   "metadata": {
    "colab": {
     "base_uri": "https://localhost:8080/"
    },
    "id": "6PGJswWUT2vA",
    "outputId": "25f2b201-b52a-419c-f392-36be2e6ed5cc"
   },
   "outputs": [
    {
     "name": "stdout",
     "output_type": "stream",
     "text": [
      "{\n",
      "  \"primary\": \"Account Management\",\n",
      "  \"secondary\": \"Close account\"\n",
      "}\n"
     ]
    }
   ],
   "source": [
    "user_message = f\"\"\"\\\n",
    "I want you to delete my profile and all of my user data \"\"\"\n",
    "\n",
    "messages= [\n",
    "    {\"role\": \"system\",\"content\": system_message},\n",
    "     {\"role\": \"user\", \"content\": f\"{delimiter}{user_message}{delimiter}\"}\n",
    "    ]\n",
    "response = get_completion(messages)\n",
    "print(response)"
   ]
  },
  {
   "cell_type": "code",
   "execution_count": 11,
   "metadata": {
    "colab": {
     "base_uri": "https://localhost:8080/"
    },
    "id": "4e3abeaYUOc1",
    "outputId": "a4c31b68-4d78-45b8-a715-8a004dca3d83"
   },
   "outputs": [
    {
     "name": "stdout",
     "output_type": "stream",
     "text": [
      "{\n",
      "  \"primary\": \"General Inquiry\",\n",
      "  \"secondary\": \"Product information\"\n",
      "}  \n",
      "\n"
     ]
    }
   ],
   "source": [
    "user_message = f\"\"\"\\\n",
    "Tell me more about your flat screen tvs\"\"\"\n",
    "messages =  [\n",
    "{'role':'system',\n",
    " 'content': system_message},\n",
    "{'role':'user',\n",
    " 'content': f\"{delimiter}{user_message}{delimiter}\"},\n",
    "]\n",
    "response = get_completion(messages)\n",
    "print(response)"
   ]
  },
  {
   "cell_type": "code",
   "execution_count": null,
   "metadata": {
    "id": "26S_3VI4U6OC"
   },
   "outputs": [],
   "source": []
  }
 ],
 "metadata": {
  "colab": {
   "provenance": []
  },
  "kernelspec": {
   "display_name": "Python 3",
   "name": "python3"
  },
  "language_info": {
   "codemirror_mode": {
    "name": "ipython",
    "version": 3
   },
   "file_extension": ".py",
   "mimetype": "text/x-python",
   "name": "python",
   "nbconvert_exporter": "python",
   "pygments_lexer": "ipython3",
   "version": "3.10.0"
  }
 },
 "nbformat": 4,
 "nbformat_minor": 0
}
